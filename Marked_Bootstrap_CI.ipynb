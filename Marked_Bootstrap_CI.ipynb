{
 "cells": [
  {
   "cell_type": "markdown",
   "metadata": {},
   "source": [
    "# Bootstrap confidence bands for summary functions\n",
    "### Matěj Kovář\n",
    "#### NMST543 - Spatial Statistics, WS 2019/2020"
   ]
  },
  {
   "cell_type": "markdown",
   "metadata": {},
   "source": [
    "## 1. Introduction\n",
    "\n",
    "The main issue of the discussed paper is the method of estimation of confidence bands for summary functions of point processes - pair correlation function, K-function etc.\n",
    "\n",
    "The paper is mostly interested in estimation of variance of __pair correlation function__. It is probably due to the further application of studying of astronomical data which are clustered - and pair correlation function indicates the tendencies of aggregations or regularities due to distance."
   ]
  },
  {
   "cell_type": "markdown",
   "metadata": {},
   "source": [
    "The estimation of pair correlation function itself can be obtained by kernel estimator \\begin{align} \\hat g(r) = \\frac{1}{\\hat \\lambda^2} \\sum_{X,Y \\in \\Phi \\cap W}^{\\neq} \\frac{k_b(r - ||X-Y||)}{\\sigma_dr^{d-1}|W|}\\cdot e_{W,r}(X,Y), \\end{align} where $k_b$ is a chosen kernel function with bandwith $b$, $\\hat\\lambda$ is estimated intensity of a process (in case of inhomogeneous process $\\hat\\lambda^2$ is replaced by $\\hat\\lambda(X)\\hat\\lambda(Y)$ which is then inside the sum), $\\sigma_d$is a surface of $d$-dimensional unit sphere and $e_{W,r}$ is the edge correction factor.\n",
    "\n",
    "The second option is to approximate the derivative of estimated $K$-function.\n",
    "\n",
    "Estimating the variance of such estimators is a nontrivial task. One of the approches is the method suggested in Loh (2008). The principle of the Loh's estimation is based on __nonparametric bootstrap__."
   ]
  },
  {
   "cell_type": "markdown",
   "metadata": {},
   "source": [
    "## 2. Suggested solution"
   ]
  },
  {
   "cell_type": "markdown",
   "metadata": {},
   "source": [
    "Loh's method of estimation is based on so-called __marked bootstrap__. It is based on assigning marks to the points of the dataset (point pattern $\\Phi_D$ in observation window $W$). For given $r$ and for each point $x\\in \\Phi_D$ it assigns a mark $m(x)$ which contains the information of the number of points occuring in distance approximately equal to $r$. The marks are then treated as a random sample and the classical bootstrap is used on them."
   ]
  },
  {
   "cell_type": "markdown",
   "metadata": {},
   "source": [
    "Suppose we obtained a point pattern $\\Phi_D$ in the observing window $W$. We simulate a homogeneous Poisson point process denoted by $\\Phi_R$ on observation window $W$ with the estimated intesity $\\lambda_D$ of the process $\\Phi_D$ (meaning that $\\Phi_R$ has no atoms outside the window $W$). Define the functions $DD(r)$, $DR(r)$ and $RR(r)$ by: \n",
    "\\begin{align}\n",
    "DD(r) &= \\sum_{x,y \\in\\Phi_D}^{\\neq} \\mathbf 1_{[||x-y|| \\in (r-b,r+b)]}, \\\\\n",
    "DR(r) &= \\sum_{x \\in \\Phi_D}\\sum_{y \\in\\Phi_R} \\mathbf 1_{[||x-y|| \\in (r-b,r+b)]}, \\\\\n",
    "RR(r) &= \\sum_{x,y \\in\\Phi_R}^{\\neq} \\mathbf 1_{[||x-y|| \\in (r-b,r+b)]},\n",
    "\\end{align}\n",
    "and their normed versions $dd(r)$, $dr(r)$ and $rr(r)$ as:\n",
    "\\begin{align}\n",
    "dd(r) &= \\frac{DD(r)}{\\Phi_D(W)^2}, \\\\\n",
    "dr(r) &= \\frac{DR(r)}{\\Phi_D(W)\\cdot\\Phi_R(W)}, \\\\\n",
    "rr(r) &= \\frac{RR(r)}{\\Phi_R(W)^2}.\n",
    "\\end{align}\n"
   ]
  },
  {
   "cell_type": "markdown",
   "metadata": {},
   "source": [
    "Based on these functional quantities the further estimates are derived. The paper is mentioning a few of possible estimates, the one which they use is the Hamilton's estimate of pair correlation function given by: \\begin{align} \n",
    "\\hat g_H(r) = \\frac{dd(r)\\cdot rr(r)}{rr(r)^2}.\n",
    "\\end{align}\n",
    "\n",
    "This estimator is specifically designed for use in cosmology and it suppose to improve the estimates of correlations in larger distances. The thorough justification and methodology can be found in Hamilton (1993)."
   ]
  },
  {
   "cell_type": "markdown",
   "metadata": {},
   "source": [
    "For each point $x \\in \\Phi_D$ assign two marks by following definitions: \n",
    "\\begin{align}\n",
    "m_{x,1} &= \\sum_{y\\in\\Phi_D \\setminus \\{x\\}} \\mathbf 1_{[||x-y|| \\in (r-b,r+b)]}, \\\\\n",
    "m_{x,2} &= \\sum_{y\\in\\Phi_R} \\mathbf 1_{[||x-y|| \\in (r-b,r+b)]}, \n",
    "\\end{align}\n",
    "\n",
    "i.e. to each point of the point $\\Phi_D$ and for given $r$ we assign the marks with information about number of points of the given process that are in distance of (approximately) $r$. First mark corresponds to points of data pattern $\\Phi_D$, the second mark corresponds to points of the Poisson process $\\Phi_R$."
   ]
  },
  {
   "cell_type": "markdown",
   "metadata": {},
   "source": [
    "When the marks $\\{(m_{x,1}, m_{x,2}: x \\in \\Phi_D)\\}$ are computed for a given $r$ the standard bootstrap technique is executed on them, i.e. the marks are resampled with replacement $B$ times - this corresponds to sample from emprical distribution function from the data - and for each time $b\\in B$ the statistic of interest (for our purposes $\\hat g_H^{b}(r)$) is computed. We therefore get the random sample $\\{\\hat g_H^{b}(r)\\}_{b\\in\\{1,\\dots, B\\}}$ which we can order from lowest value to highest - we obtain the ordered random sample $\\{\\hat g^{(b)}_H(r)\\}$. The confidence interval is then obtained as $$[2\\hat g_H(r) - \\hat g_H^{(B+1)(1-\\alpha/2)}(r), 2\\hat g_H(r) - \\hat g_H^{(B+1)(\\alpha/2)}(r)].$$"
   ]
  },
  {
   "cell_type": "markdown",
   "metadata": {},
   "source": [
    "In contrast to previous spatial bootstrap attempts (e.g. resampling points and then computing the number of neighbours) the structure of point process is preserved by resampling the beforehand-computed numbers of neighbours."
   ]
  },
  {
   "cell_type": "markdown",
   "metadata": {},
   "source": [
    "## 3. Implementation in R"
   ]
  },
  {
   "cell_type": "markdown",
   "metadata": {},
   "source": [
    "Firstly we apply the methods on Poisson point process. Then, since the method is intended for use in clustered point patterns analysis, we apply the method on a typical cluster point process - the Thomas point process. This is a special case of Neymann-Scott Poisson point process derived from homogeneous Poisson point process with intensity $\\lambda_p$ (parent process) and density of $d$-dimensional normal distribution $N_d(0,\\sigma^2 I)$ denoted as $p$. In this practical case we use the planar point process, i.e. $d=2$."
   ]
  },
  {
   "cell_type": "markdown",
   "metadata": {},
   "source": [
    "The simulations were performed on homogeneous Poisson point process with intensity $\\lambda = 5000$ and on 4 differently parametrized Thomas point processes. For each of the models 100 simulations were obtained."
   ]
  },
  {
   "cell_type": "markdown",
   "metadata": {},
   "source": [
    "For every realization of point process the marks were bootstrapped 100 times. The results are presented bellow."
   ]
  },
  {
   "cell_type": "markdown",
   "metadata": {},
   "source": [
    "When creating the confidence interval, we run the function lohboot with both options of parameter global, i.e. with `global = TRUE` and `global = FALSE`. In terms of hypothesis testing the first option corresponds to global envelope tests standardly used in estimating the summary functions of point processes. The second option corresponds to to pointwise envelope tests."
   ]
  },
  {
   "cell_type": "markdown",
   "metadata": {},
   "source": [
    "We begin by loading the library `spatstat`."
   ]
  },
  {
   "cell_type": "code",
   "execution_count": 1,
   "metadata": {},
   "outputs": [
    {
     "name": "stderr",
     "output_type": "stream",
     "text": [
      "Loading required package: spatstat.data\n",
      "Loading required package: nlme\n",
      "Loading required package: rpart\n",
      "\n",
      "spatstat 1.61-0       (nickname: 'Puppy zoomies') \n",
      "For an introduction to spatstat, type 'beginner' \n",
      "\n",
      "\n",
      "Note: spatstat version 1.61-0 is out of date by more than 5 months; we recommend upgrading to the latest version.\n"
     ]
    }
   ],
   "source": [
    "#install.packages('spatstat')\n",
    "library(spatstat)"
   ]
  },
  {
   "cell_type": "markdown",
   "metadata": {},
   "source": [
    "We set up the parameters for further simulations of Thomas point process."
   ]
  },
  {
   "cell_type": "code",
   "execution_count": 2,
   "metadata": {},
   "outputs": [],
   "source": [
    "# Setting the parameters of the Thomas p.p. and Poisson p.p.\n",
    "KP1 = 100\n",
    "KP2 = 200\n",
    "SGM1 = 0.007\n",
    "SGM2 = 0.02\n",
    "MU1 = 25\n",
    "MU2 = 50\n",
    "pLambda = 5000"
   ]
  },
  {
   "cell_type": "markdown",
   "metadata": {},
   "source": [
    "And we prepare the theoretical pair correlation function of Thomas point processes for all models considered."
   ]
  },
  {
   "cell_type": "code",
   "execution_count": 3,
   "metadata": {},
   "outputs": [],
   "source": [
    "# Setting the theoretical Thomas pair correlation functions\n",
    "thom1Pcf = function(x){\n",
    "  return(1+(1 / (4*pi*KP2*(SGM2)^2)) * (exp(-x^2 / (4*(SGM2)^2)) ))\n",
    "}\n",
    "\n",
    "thom2Pcf = function(x){\n",
    "  return(1+(1 / (4*pi*KP1*(SGM2)^2)) * (exp(-x^2 / (4*(SGM2)^2)) ))\n",
    "}\n",
    "\n",
    "thom3Pcf = function(x){\n",
    "  return(1+(1 / (4*pi*KP2*(SGM1)^2)) * (exp(-x^2 / (4*(SGM1)^2)) ))\n",
    "}\n",
    "\n",
    "thom4Pcf = function(x){\n",
    "  return(1+(1 / (4*pi*KP1*(SGM1)^2)) * (exp(-x^2 / (4*(SGM1)^2)) ))\n",
    "}"
   ]
  },
  {
   "cell_type": "markdown",
   "metadata": {},
   "source": [
    "We step further to the process of simulating the point processes and marked bootstrap estimates of confidence intervals (CI) of pair correlation funcions. As mentioned above the number of simulated processes were 100 for each model as well as for the bootstrap samples for each realization of point process. This number (for both cases) might rather be higher, but due to reasonable computational feasibility we choose to make the computation with these numbers."
   ]
  },
  {
   "cell_type": "code",
   "execution_count": 4,
   "metadata": {},
   "outputs": [
    {
     "name": "stderr",
     "output_type": "stream",
     "text": [
      "Warning message in lohboot(pos[[k]], fun = \"pcf\", nsim = kolikLohu):\n",
      "\"confidence level 0.95 corresponds to a non-integer rank (97.5) so quantiles will be interpolated\"Warning message in lohboot(thom1[[k]], fun = \"pcf\", nsim = kolikLohu):\n",
      "\"confidence level 0.95 corresponds to a non-integer rank (97.5) so quantiles will be interpolated\"Warning message in lohboot(thom2[[k]], fun = \"pcf\", nsim = kolikLohu):\n",
      "\"confidence level 0.95 corresponds to a non-integer rank (97.5) so quantiles will be interpolated\"Warning message in lohboot(thom3[[k]], fun = \"pcf\", nsim = kolikLohu):\n",
      "\"confidence level 0.95 corresponds to a non-integer rank (97.5) so quantiles will be interpolated\"Warning message in lohboot(thom4[[k]], fun = \"pcf\", nsim = kolikLohu):\n",
      "\"confidence level 0.95 corresponds to a non-integer rank (97.5) so quantiles will be interpolated\""
     ]
    },
    {
     "name": "stdout",
     "output_type": "stream",
     "text": [
      "[1] 1\n"
     ]
    },
    {
     "name": "stderr",
     "output_type": "stream",
     "text": [
      "Warning message in lohboot(pos[[k]], fun = \"pcf\", nsim = kolikLohu):\n",
      "\"confidence level 0.95 corresponds to a non-integer rank (97.5) so quantiles will be interpolated\"Warning message in lohboot(thom1[[k]], fun = \"pcf\", nsim = kolikLohu):\n",
      "\"confidence level 0.95 corresponds to a non-integer rank (97.5) so quantiles will be interpolated\"Warning message in lohboot(thom2[[k]], fun = \"pcf\", nsim = kolikLohu):\n",
      "\"confidence level 0.95 corresponds to a non-integer rank (97.5) so quantiles will be interpolated\"Warning message in lohboot(thom3[[k]], fun = \"pcf\", nsim = kolikLohu):\n",
      "\"confidence level 0.95 corresponds to a non-integer rank (97.5) so quantiles will be interpolated\"Warning message in lohboot(thom4[[k]], fun = \"pcf\", nsim = kolikLohu):\n",
      "\"confidence level 0.95 corresponds to a non-integer rank (97.5) so quantiles will be interpolated\""
     ]
    },
    {
     "name": "stdout",
     "output_type": "stream",
     "text": [
      "[1] 2\n"
     ]
    },
    {
     "name": "stderr",
     "output_type": "stream",
     "text": [
      "Warning message in lohboot(pos[[k]], fun = \"pcf\", nsim = kolikLohu):\n",
      "\"confidence level 0.95 corresponds to a non-integer rank (97.5) so quantiles will be interpolated\"Warning message in lohboot(thom1[[k]], fun = \"pcf\", nsim = kolikLohu):\n",
      "\"confidence level 0.95 corresponds to a non-integer rank (97.5) so quantiles will be interpolated\"Warning message in lohboot(thom2[[k]], fun = \"pcf\", nsim = kolikLohu):\n",
      "\"confidence level 0.95 corresponds to a non-integer rank (97.5) so quantiles will be interpolated\"Warning message in lohboot(thom3[[k]], fun = \"pcf\", nsim = kolikLohu):\n",
      "\"confidence level 0.95 corresponds to a non-integer rank (97.5) so quantiles will be interpolated\"Warning message in lohboot(thom4[[k]], fun = \"pcf\", nsim = kolikLohu):\n",
      "\"confidence level 0.95 corresponds to a non-integer rank (97.5) so quantiles will be interpolated\""
     ]
    },
    {
     "name": "stdout",
     "output_type": "stream",
     "text": [
      "[1] 3\n"
     ]
    },
    {
     "name": "stderr",
     "output_type": "stream",
     "text": [
      "Warning message in lohboot(pos[[k]], fun = \"pcf\", nsim = kolikLohu):\n",
      "\"confidence level 0.95 corresponds to a non-integer rank (97.5) so quantiles will be interpolated\"Warning message in lohboot(thom1[[k]], fun = \"pcf\", nsim = kolikLohu):\n",
      "\"confidence level 0.95 corresponds to a non-integer rank (97.5) so quantiles will be interpolated\"Warning message in lohboot(thom2[[k]], fun = \"pcf\", nsim = kolikLohu):\n",
      "\"confidence level 0.95 corresponds to a non-integer rank (97.5) so quantiles will be interpolated\"Warning message in lohboot(thom3[[k]], fun = \"pcf\", nsim = kolikLohu):\n",
      "\"confidence level 0.95 corresponds to a non-integer rank (97.5) so quantiles will be interpolated\"Warning message in lohboot(thom4[[k]], fun = \"pcf\", nsim = kolikLohu):\n",
      "\"confidence level 0.95 corresponds to a non-integer rank (97.5) so quantiles will be interpolated\""
     ]
    },
    {
     "name": "stdout",
     "output_type": "stream",
     "text": [
      "[1] 4\n"
     ]
    },
    {
     "name": "stderr",
     "output_type": "stream",
     "text": [
      "Warning message in lohboot(pos[[k]], fun = \"pcf\", nsim = kolikLohu):\n",
      "\"confidence level 0.95 corresponds to a non-integer rank (97.5) so quantiles will be interpolated\"Warning message in lohboot(thom1[[k]], fun = \"pcf\", nsim = kolikLohu):\n",
      "\"confidence level 0.95 corresponds to a non-integer rank (97.5) so quantiles will be interpolated\"Warning message in lohboot(thom2[[k]], fun = \"pcf\", nsim = kolikLohu):\n",
      "\"confidence level 0.95 corresponds to a non-integer rank (97.5) so quantiles will be interpolated\"Warning message in lohboot(thom3[[k]], fun = \"pcf\", nsim = kolikLohu):\n",
      "\"confidence level 0.95 corresponds to a non-integer rank (97.5) so quantiles will be interpolated\"Warning message in lohboot(thom4[[k]], fun = \"pcf\", nsim = kolikLohu):\n",
      "\"confidence level 0.95 corresponds to a non-integer rank (97.5) so quantiles will be interpolated\""
     ]
    },
    {
     "name": "stdout",
     "output_type": "stream",
     "text": [
      "[1] 5\n"
     ]
    },
    {
     "name": "stderr",
     "output_type": "stream",
     "text": [
      "Warning message in lohboot(pos[[k]], fun = \"pcf\", nsim = kolikLohu):\n",
      "\"confidence level 0.95 corresponds to a non-integer rank (97.5) so quantiles will be interpolated\"Warning message in lohboot(thom1[[k]], fun = \"pcf\", nsim = kolikLohu):\n",
      "\"confidence level 0.95 corresponds to a non-integer rank (97.5) so quantiles will be interpolated\"Warning message in lohboot(thom2[[k]], fun = \"pcf\", nsim = kolikLohu):\n",
      "\"confidence level 0.95 corresponds to a non-integer rank (97.5) so quantiles will be interpolated\"Warning message in lohboot(thom3[[k]], fun = \"pcf\", nsim = kolikLohu):\n",
      "\"confidence level 0.95 corresponds to a non-integer rank (97.5) so quantiles will be interpolated\"Warning message in lohboot(thom4[[k]], fun = \"pcf\", nsim = kolikLohu):\n",
      "\"confidence level 0.95 corresponds to a non-integer rank (97.5) so quantiles will be interpolated\""
     ]
    },
    {
     "name": "stdout",
     "output_type": "stream",
     "text": [
      "[1] 6\n"
     ]
    },
    {
     "name": "stderr",
     "output_type": "stream",
     "text": [
      "Warning message in lohboot(pos[[k]], fun = \"pcf\", nsim = kolikLohu):\n",
      "\"confidence level 0.95 corresponds to a non-integer rank (97.5) so quantiles will be interpolated\"Warning message in lohboot(thom1[[k]], fun = \"pcf\", nsim = kolikLohu):\n",
      "\"confidence level 0.95 corresponds to a non-integer rank (97.5) so quantiles will be interpolated\"Warning message in lohboot(thom2[[k]], fun = \"pcf\", nsim = kolikLohu):\n",
      "\"confidence level 0.95 corresponds to a non-integer rank (97.5) so quantiles will be interpolated\"Warning message in lohboot(thom3[[k]], fun = \"pcf\", nsim = kolikLohu):\n",
      "\"confidence level 0.95 corresponds to a non-integer rank (97.5) so quantiles will be interpolated\"Warning message in lohboot(thom4[[k]], fun = \"pcf\", nsim = kolikLohu):\n",
      "\"confidence level 0.95 corresponds to a non-integer rank (97.5) so quantiles will be interpolated\""
     ]
    },
    {
     "name": "stdout",
     "output_type": "stream",
     "text": [
      "[1] 7\n"
     ]
    },
    {
     "name": "stderr",
     "output_type": "stream",
     "text": [
      "Warning message in lohboot(pos[[k]], fun = \"pcf\", nsim = kolikLohu):\n",
      "\"confidence level 0.95 corresponds to a non-integer rank (97.5) so quantiles will be interpolated\"Warning message in lohboot(thom1[[k]], fun = \"pcf\", nsim = kolikLohu):\n",
      "\"confidence level 0.95 corresponds to a non-integer rank (97.5) so quantiles will be interpolated\"Warning message in lohboot(thom2[[k]], fun = \"pcf\", nsim = kolikLohu):\n",
      "\"confidence level 0.95 corresponds to a non-integer rank (97.5) so quantiles will be interpolated\"Warning message in lohboot(thom3[[k]], fun = \"pcf\", nsim = kolikLohu):\n",
      "\"confidence level 0.95 corresponds to a non-integer rank (97.5) so quantiles will be interpolated\"Warning message in lohboot(thom4[[k]], fun = \"pcf\", nsim = kolikLohu):\n",
      "\"confidence level 0.95 corresponds to a non-integer rank (97.5) so quantiles will be interpolated\""
     ]
    },
    {
     "name": "stdout",
     "output_type": "stream",
     "text": [
      "[1] 8\n"
     ]
    },
    {
     "name": "stderr",
     "output_type": "stream",
     "text": [
      "Warning message in lohboot(pos[[k]], fun = \"pcf\", nsim = kolikLohu):\n",
      "\"confidence level 0.95 corresponds to a non-integer rank (97.5) so quantiles will be interpolated\"Warning message in lohboot(thom1[[k]], fun = \"pcf\", nsim = kolikLohu):\n",
      "\"confidence level 0.95 corresponds to a non-integer rank (97.5) so quantiles will be interpolated\"Warning message in lohboot(thom2[[k]], fun = \"pcf\", nsim = kolikLohu):\n",
      "\"confidence level 0.95 corresponds to a non-integer rank (97.5) so quantiles will be interpolated\"Warning message in lohboot(thom3[[k]], fun = \"pcf\", nsim = kolikLohu):\n",
      "\"confidence level 0.95 corresponds to a non-integer rank (97.5) so quantiles will be interpolated\"Warning message in lohboot(thom4[[k]], fun = \"pcf\", nsim = kolikLohu):\n",
      "\"confidence level 0.95 corresponds to a non-integer rank (97.5) so quantiles will be interpolated\""
     ]
    },
    {
     "name": "stdout",
     "output_type": "stream",
     "text": [
      "[1] 9\n"
     ]
    },
    {
     "name": "stderr",
     "output_type": "stream",
     "text": [
      "Warning message in lohboot(pos[[k]], fun = \"pcf\", nsim = kolikLohu):\n",
      "\"confidence level 0.95 corresponds to a non-integer rank (97.5) so quantiles will be interpolated\"Warning message in lohboot(thom1[[k]], fun = \"pcf\", nsim = kolikLohu):\n",
      "\"confidence level 0.95 corresponds to a non-integer rank (97.5) so quantiles will be interpolated\"Warning message in lohboot(thom2[[k]], fun = \"pcf\", nsim = kolikLohu):\n",
      "\"confidence level 0.95 corresponds to a non-integer rank (97.5) so quantiles will be interpolated\"Warning message in lohboot(thom3[[k]], fun = \"pcf\", nsim = kolikLohu):\n",
      "\"confidence level 0.95 corresponds to a non-integer rank (97.5) so quantiles will be interpolated\"Warning message in lohboot(thom4[[k]], fun = \"pcf\", nsim = kolikLohu):\n",
      "\"confidence level 0.95 corresponds to a non-integer rank (97.5) so quantiles will be interpolated\""
     ]
    },
    {
     "name": "stdout",
     "output_type": "stream",
     "text": [
      "[1] 10\n"
     ]
    },
    {
     "name": "stderr",
     "output_type": "stream",
     "text": [
      "Warning message in lohboot(pos[[k]], fun = \"pcf\", nsim = kolikLohu):\n",
      "\"confidence level 0.95 corresponds to a non-integer rank (97.5) so quantiles will be interpolated\"Warning message in lohboot(thom1[[k]], fun = \"pcf\", nsim = kolikLohu):\n",
      "\"confidence level 0.95 corresponds to a non-integer rank (97.5) so quantiles will be interpolated\"Warning message in lohboot(thom2[[k]], fun = \"pcf\", nsim = kolikLohu):\n",
      "\"confidence level 0.95 corresponds to a non-integer rank (97.5) so quantiles will be interpolated\"Warning message in lohboot(thom3[[k]], fun = \"pcf\", nsim = kolikLohu):\n",
      "\"confidence level 0.95 corresponds to a non-integer rank (97.5) so quantiles will be interpolated\"Warning message in lohboot(thom4[[k]], fun = \"pcf\", nsim = kolikLohu):\n",
      "\"confidence level 0.95 corresponds to a non-integer rank (97.5) so quantiles will be interpolated\""
     ]
    },
    {
     "name": "stdout",
     "output_type": "stream",
     "text": [
      "[1] 11\n"
     ]
    },
    {
     "name": "stderr",
     "output_type": "stream",
     "text": [
      "Warning message in lohboot(pos[[k]], fun = \"pcf\", nsim = kolikLohu):\n",
      "\"confidence level 0.95 corresponds to a non-integer rank (97.5) so quantiles will be interpolated\"Warning message in lohboot(thom1[[k]], fun = \"pcf\", nsim = kolikLohu):\n",
      "\"confidence level 0.95 corresponds to a non-integer rank (97.5) so quantiles will be interpolated\"Warning message in lohboot(thom2[[k]], fun = \"pcf\", nsim = kolikLohu):\n",
      "\"confidence level 0.95 corresponds to a non-integer rank (97.5) so quantiles will be interpolated\"Warning message in lohboot(thom3[[k]], fun = \"pcf\", nsim = kolikLohu):\n",
      "\"confidence level 0.95 corresponds to a non-integer rank (97.5) so quantiles will be interpolated\"Warning message in lohboot(thom4[[k]], fun = \"pcf\", nsim = kolikLohu):\n",
      "\"confidence level 0.95 corresponds to a non-integer rank (97.5) so quantiles will be interpolated\""
     ]
    },
    {
     "name": "stdout",
     "output_type": "stream",
     "text": [
      "[1] 12\n"
     ]
    },
    {
     "name": "stderr",
     "output_type": "stream",
     "text": [
      "Warning message in lohboot(pos[[k]], fun = \"pcf\", nsim = kolikLohu):\n",
      "\"confidence level 0.95 corresponds to a non-integer rank (97.5) so quantiles will be interpolated\"Warning message in lohboot(thom1[[k]], fun = \"pcf\", nsim = kolikLohu):\n",
      "\"confidence level 0.95 corresponds to a non-integer rank (97.5) so quantiles will be interpolated\"Warning message in lohboot(thom2[[k]], fun = \"pcf\", nsim = kolikLohu):\n",
      "\"confidence level 0.95 corresponds to a non-integer rank (97.5) so quantiles will be interpolated\"Warning message in lohboot(thom3[[k]], fun = \"pcf\", nsim = kolikLohu):\n",
      "\"confidence level 0.95 corresponds to a non-integer rank (97.5) so quantiles will be interpolated\"Warning message in lohboot(thom4[[k]], fun = \"pcf\", nsim = kolikLohu):\n",
      "\"confidence level 0.95 corresponds to a non-integer rank (97.5) so quantiles will be interpolated\""
     ]
    },
    {
     "name": "stdout",
     "output_type": "stream",
     "text": [
      "[1] 13\n"
     ]
    },
    {
     "name": "stderr",
     "output_type": "stream",
     "text": [
      "Warning message in lohboot(pos[[k]], fun = \"pcf\", nsim = kolikLohu):\n",
      "\"confidence level 0.95 corresponds to a non-integer rank (97.5) so quantiles will be interpolated\"Warning message in lohboot(thom1[[k]], fun = \"pcf\", nsim = kolikLohu):\n",
      "\"confidence level 0.95 corresponds to a non-integer rank (97.5) so quantiles will be interpolated\"Warning message in lohboot(thom2[[k]], fun = \"pcf\", nsim = kolikLohu):\n",
      "\"confidence level 0.95 corresponds to a non-integer rank (97.5) so quantiles will be interpolated\"Warning message in lohboot(thom3[[k]], fun = \"pcf\", nsim = kolikLohu):\n",
      "\"confidence level 0.95 corresponds to a non-integer rank (97.5) so quantiles will be interpolated\"Warning message in lohboot(thom4[[k]], fun = \"pcf\", nsim = kolikLohu):\n",
      "\"confidence level 0.95 corresponds to a non-integer rank (97.5) so quantiles will be interpolated\""
     ]
    },
    {
     "name": "stdout",
     "output_type": "stream",
     "text": [
      "[1] 14\n"
     ]
    },
    {
     "name": "stderr",
     "output_type": "stream",
     "text": [
      "Warning message in lohboot(pos[[k]], fun = \"pcf\", nsim = kolikLohu):\n",
      "\"confidence level 0.95 corresponds to a non-integer rank (97.5) so quantiles will be interpolated\"Warning message in lohboot(thom1[[k]], fun = \"pcf\", nsim = kolikLohu):\n",
      "\"confidence level 0.95 corresponds to a non-integer rank (97.5) so quantiles will be interpolated\"Warning message in lohboot(thom2[[k]], fun = \"pcf\", nsim = kolikLohu):\n",
      "\"confidence level 0.95 corresponds to a non-integer rank (97.5) so quantiles will be interpolated\"Warning message in lohboot(thom3[[k]], fun = \"pcf\", nsim = kolikLohu):\n",
      "\"confidence level 0.95 corresponds to a non-integer rank (97.5) so quantiles will be interpolated\"Warning message in lohboot(thom4[[k]], fun = \"pcf\", nsim = kolikLohu):\n",
      "\"confidence level 0.95 corresponds to a non-integer rank (97.5) so quantiles will be interpolated\""
     ]
    },
    {
     "name": "stdout",
     "output_type": "stream",
     "text": [
      "[1] 15\n"
     ]
    },
    {
     "name": "stderr",
     "output_type": "stream",
     "text": [
      "Warning message in lohboot(pos[[k]], fun = \"pcf\", nsim = kolikLohu):\n",
      "\"confidence level 0.95 corresponds to a non-integer rank (97.5) so quantiles will be interpolated\"Warning message in lohboot(thom1[[k]], fun = \"pcf\", nsim = kolikLohu):\n",
      "\"confidence level 0.95 corresponds to a non-integer rank (97.5) so quantiles will be interpolated\"Warning message in lohboot(thom2[[k]], fun = \"pcf\", nsim = kolikLohu):\n",
      "\"confidence level 0.95 corresponds to a non-integer rank (97.5) so quantiles will be interpolated\"Warning message in lohboot(thom3[[k]], fun = \"pcf\", nsim = kolikLohu):\n",
      "\"confidence level 0.95 corresponds to a non-integer rank (97.5) so quantiles will be interpolated\"Warning message in lohboot(thom4[[k]], fun = \"pcf\", nsim = kolikLohu):\n",
      "\"confidence level 0.95 corresponds to a non-integer rank (97.5) so quantiles will be interpolated\""
     ]
    },
    {
     "name": "stdout",
     "output_type": "stream",
     "text": [
      "[1] 16\n"
     ]
    },
    {
     "name": "stderr",
     "output_type": "stream",
     "text": [
      "Warning message in lohboot(pos[[k]], fun = \"pcf\", nsim = kolikLohu):\n",
      "\"confidence level 0.95 corresponds to a non-integer rank (97.5) so quantiles will be interpolated\"Warning message in lohboot(thom1[[k]], fun = \"pcf\", nsim = kolikLohu):\n",
      "\"confidence level 0.95 corresponds to a non-integer rank (97.5) so quantiles will be interpolated\"Warning message in lohboot(thom2[[k]], fun = \"pcf\", nsim = kolikLohu):\n",
      "\"confidence level 0.95 corresponds to a non-integer rank (97.5) so quantiles will be interpolated\"Warning message in lohboot(thom3[[k]], fun = \"pcf\", nsim = kolikLohu):\n",
      "\"confidence level 0.95 corresponds to a non-integer rank (97.5) so quantiles will be interpolated\"Warning message in lohboot(thom4[[k]], fun = \"pcf\", nsim = kolikLohu):\n",
      "\"confidence level 0.95 corresponds to a non-integer rank (97.5) so quantiles will be interpolated\""
     ]
    },
    {
     "name": "stdout",
     "output_type": "stream",
     "text": [
      "[1] 17\n"
     ]
    },
    {
     "name": "stderr",
     "output_type": "stream",
     "text": [
      "Warning message in lohboot(pos[[k]], fun = \"pcf\", nsim = kolikLohu):\n",
      "\"confidence level 0.95 corresponds to a non-integer rank (97.5) so quantiles will be interpolated\"Warning message in lohboot(thom1[[k]], fun = \"pcf\", nsim = kolikLohu):\n",
      "\"confidence level 0.95 corresponds to a non-integer rank (97.5) so quantiles will be interpolated\"Warning message in lohboot(thom2[[k]], fun = \"pcf\", nsim = kolikLohu):\n",
      "\"confidence level 0.95 corresponds to a non-integer rank (97.5) so quantiles will be interpolated\"Warning message in lohboot(thom3[[k]], fun = \"pcf\", nsim = kolikLohu):\n",
      "\"confidence level 0.95 corresponds to a non-integer rank (97.5) so quantiles will be interpolated\"Warning message in lohboot(thom4[[k]], fun = \"pcf\", nsim = kolikLohu):\n",
      "\"confidence level 0.95 corresponds to a non-integer rank (97.5) so quantiles will be interpolated\""
     ]
    },
    {
     "name": "stdout",
     "output_type": "stream",
     "text": [
      "[1] 18\n"
     ]
    },
    {
     "name": "stderr",
     "output_type": "stream",
     "text": [
      "Warning message in lohboot(pos[[k]], fun = \"pcf\", nsim = kolikLohu):\n",
      "\"confidence level 0.95 corresponds to a non-integer rank (97.5) so quantiles will be interpolated\"Warning message in lohboot(thom1[[k]], fun = \"pcf\", nsim = kolikLohu):\n",
      "\"confidence level 0.95 corresponds to a non-integer rank (97.5) so quantiles will be interpolated\"Warning message in lohboot(thom2[[k]], fun = \"pcf\", nsim = kolikLohu):\n",
      "\"confidence level 0.95 corresponds to a non-integer rank (97.5) so quantiles will be interpolated\"Warning message in lohboot(thom3[[k]], fun = \"pcf\", nsim = kolikLohu):\n",
      "\"confidence level 0.95 corresponds to a non-integer rank (97.5) so quantiles will be interpolated\"Warning message in lohboot(thom4[[k]], fun = \"pcf\", nsim = kolikLohu):\n",
      "\"confidence level 0.95 corresponds to a non-integer rank (97.5) so quantiles will be interpolated\""
     ]
    },
    {
     "name": "stdout",
     "output_type": "stream",
     "text": [
      "[1] 19\n"
     ]
    },
    {
     "name": "stderr",
     "output_type": "stream",
     "text": [
      "Warning message in lohboot(pos[[k]], fun = \"pcf\", nsim = kolikLohu):\n",
      "\"confidence level 0.95 corresponds to a non-integer rank (97.5) so quantiles will be interpolated\"Warning message in lohboot(thom1[[k]], fun = \"pcf\", nsim = kolikLohu):\n",
      "\"confidence level 0.95 corresponds to a non-integer rank (97.5) so quantiles will be interpolated\"Warning message in lohboot(thom2[[k]], fun = \"pcf\", nsim = kolikLohu):\n",
      "\"confidence level 0.95 corresponds to a non-integer rank (97.5) so quantiles will be interpolated\"Warning message in lohboot(thom3[[k]], fun = \"pcf\", nsim = kolikLohu):\n",
      "\"confidence level 0.95 corresponds to a non-integer rank (97.5) so quantiles will be interpolated\"Warning message in lohboot(thom4[[k]], fun = \"pcf\", nsim = kolikLohu):\n",
      "\"confidence level 0.95 corresponds to a non-integer rank (97.5) so quantiles will be interpolated\""
     ]
    },
    {
     "name": "stdout",
     "output_type": "stream",
     "text": [
      "[1] 20\n"
     ]
    },
    {
     "name": "stderr",
     "output_type": "stream",
     "text": [
      "Warning message in lohboot(pos[[k]], fun = \"pcf\", nsim = kolikLohu):\n",
      "\"confidence level 0.95 corresponds to a non-integer rank (97.5) so quantiles will be interpolated\"Warning message in lohboot(thom1[[k]], fun = \"pcf\", nsim = kolikLohu):\n",
      "\"confidence level 0.95 corresponds to a non-integer rank (97.5) so quantiles will be interpolated\"Warning message in lohboot(thom2[[k]], fun = \"pcf\", nsim = kolikLohu):\n",
      "\"confidence level 0.95 corresponds to a non-integer rank (97.5) so quantiles will be interpolated\"Warning message in lohboot(thom3[[k]], fun = \"pcf\", nsim = kolikLohu):\n",
      "\"confidence level 0.95 corresponds to a non-integer rank (97.5) so quantiles will be interpolated\"Warning message in lohboot(thom4[[k]], fun = \"pcf\", nsim = kolikLohu):\n",
      "\"confidence level 0.95 corresponds to a non-integer rank (97.5) so quantiles will be interpolated\""
     ]
    },
    {
     "name": "stdout",
     "output_type": "stream",
     "text": [
      "[1] 21\n"
     ]
    },
    {
     "name": "stderr",
     "output_type": "stream",
     "text": [
      "Warning message in lohboot(pos[[k]], fun = \"pcf\", nsim = kolikLohu):\n",
      "\"confidence level 0.95 corresponds to a non-integer rank (97.5) so quantiles will be interpolated\"Warning message in lohboot(thom1[[k]], fun = \"pcf\", nsim = kolikLohu):\n",
      "\"confidence level 0.95 corresponds to a non-integer rank (97.5) so quantiles will be interpolated\"Warning message in lohboot(thom2[[k]], fun = \"pcf\", nsim = kolikLohu):\n",
      "\"confidence level 0.95 corresponds to a non-integer rank (97.5) so quantiles will be interpolated\"Warning message in lohboot(thom3[[k]], fun = \"pcf\", nsim = kolikLohu):\n",
      "\"confidence level 0.95 corresponds to a non-integer rank (97.5) so quantiles will be interpolated\"Warning message in lohboot(thom4[[k]], fun = \"pcf\", nsim = kolikLohu):\n",
      "\"confidence level 0.95 corresponds to a non-integer rank (97.5) so quantiles will be interpolated\""
     ]
    },
    {
     "name": "stdout",
     "output_type": "stream",
     "text": [
      "[1] 22\n"
     ]
    },
    {
     "name": "stderr",
     "output_type": "stream",
     "text": [
      "Warning message in lohboot(pos[[k]], fun = \"pcf\", nsim = kolikLohu):\n",
      "\"confidence level 0.95 corresponds to a non-integer rank (97.5) so quantiles will be interpolated\"Warning message in lohboot(thom1[[k]], fun = \"pcf\", nsim = kolikLohu):\n",
      "\"confidence level 0.95 corresponds to a non-integer rank (97.5) so quantiles will be interpolated\"Warning message in lohboot(thom2[[k]], fun = \"pcf\", nsim = kolikLohu):\n",
      "\"confidence level 0.95 corresponds to a non-integer rank (97.5) so quantiles will be interpolated\"Warning message in lohboot(thom3[[k]], fun = \"pcf\", nsim = kolikLohu):\n",
      "\"confidence level 0.95 corresponds to a non-integer rank (97.5) so quantiles will be interpolated\"Warning message in lohboot(thom4[[k]], fun = \"pcf\", nsim = kolikLohu):\n",
      "\"confidence level 0.95 corresponds to a non-integer rank (97.5) so quantiles will be interpolated\""
     ]
    },
    {
     "name": "stdout",
     "output_type": "stream",
     "text": [
      "[1] 23\n"
     ]
    },
    {
     "name": "stderr",
     "output_type": "stream",
     "text": [
      "Warning message in lohboot(pos[[k]], fun = \"pcf\", nsim = kolikLohu):\n",
      "\"confidence level 0.95 corresponds to a non-integer rank (97.5) so quantiles will be interpolated\"Warning message in lohboot(thom1[[k]], fun = \"pcf\", nsim = kolikLohu):\n",
      "\"confidence level 0.95 corresponds to a non-integer rank (97.5) so quantiles will be interpolated\"Warning message in lohboot(thom2[[k]], fun = \"pcf\", nsim = kolikLohu):\n",
      "\"confidence level 0.95 corresponds to a non-integer rank (97.5) so quantiles will be interpolated\"Warning message in lohboot(thom3[[k]], fun = \"pcf\", nsim = kolikLohu):\n",
      "\"confidence level 0.95 corresponds to a non-integer rank (97.5) so quantiles will be interpolated\"Warning message in lohboot(thom4[[k]], fun = \"pcf\", nsim = kolikLohu):\n",
      "\"confidence level 0.95 corresponds to a non-integer rank (97.5) so quantiles will be interpolated\""
     ]
    },
    {
     "name": "stdout",
     "output_type": "stream",
     "text": [
      "[1] 24\n"
     ]
    },
    {
     "name": "stderr",
     "output_type": "stream",
     "text": [
      "Warning message in lohboot(pos[[k]], fun = \"pcf\", nsim = kolikLohu):\n",
      "\"confidence level 0.95 corresponds to a non-integer rank (97.5) so quantiles will be interpolated\"Warning message in lohboot(thom1[[k]], fun = \"pcf\", nsim = kolikLohu):\n",
      "\"confidence level 0.95 corresponds to a non-integer rank (97.5) so quantiles will be interpolated\"Warning message in lohboot(thom2[[k]], fun = \"pcf\", nsim = kolikLohu):\n",
      "\"confidence level 0.95 corresponds to a non-integer rank (97.5) so quantiles will be interpolated\"Warning message in lohboot(thom3[[k]], fun = \"pcf\", nsim = kolikLohu):\n",
      "\"confidence level 0.95 corresponds to a non-integer rank (97.5) so quantiles will be interpolated\"Warning message in lohboot(thom4[[k]], fun = \"pcf\", nsim = kolikLohu):\n",
      "\"confidence level 0.95 corresponds to a non-integer rank (97.5) so quantiles will be interpolated\""
     ]
    },
    {
     "name": "stdout",
     "output_type": "stream",
     "text": [
      "[1] 25\n"
     ]
    },
    {
     "name": "stderr",
     "output_type": "stream",
     "text": [
      "Warning message in lohboot(pos[[k]], fun = \"pcf\", nsim = kolikLohu):\n",
      "\"confidence level 0.95 corresponds to a non-integer rank (97.5) so quantiles will be interpolated\"Warning message in lohboot(thom1[[k]], fun = \"pcf\", nsim = kolikLohu):\n",
      "\"confidence level 0.95 corresponds to a non-integer rank (97.5) so quantiles will be interpolated\"Warning message in lohboot(thom2[[k]], fun = \"pcf\", nsim = kolikLohu):\n",
      "\"confidence level 0.95 corresponds to a non-integer rank (97.5) so quantiles will be interpolated\"Warning message in lohboot(thom3[[k]], fun = \"pcf\", nsim = kolikLohu):\n",
      "\"confidence level 0.95 corresponds to a non-integer rank (97.5) so quantiles will be interpolated\"Warning message in lohboot(thom4[[k]], fun = \"pcf\", nsim = kolikLohu):\n",
      "\"confidence level 0.95 corresponds to a non-integer rank (97.5) so quantiles will be interpolated\""
     ]
    },
    {
     "name": "stdout",
     "output_type": "stream",
     "text": [
      "[1] 26\n"
     ]
    },
    {
     "name": "stderr",
     "output_type": "stream",
     "text": [
      "Warning message in lohboot(pos[[k]], fun = \"pcf\", nsim = kolikLohu):\n",
      "\"confidence level 0.95 corresponds to a non-integer rank (97.5) so quantiles will be interpolated\"Warning message in lohboot(thom1[[k]], fun = \"pcf\", nsim = kolikLohu):\n",
      "\"confidence level 0.95 corresponds to a non-integer rank (97.5) so quantiles will be interpolated\"Warning message in lohboot(thom2[[k]], fun = \"pcf\", nsim = kolikLohu):\n",
      "\"confidence level 0.95 corresponds to a non-integer rank (97.5) so quantiles will be interpolated\"Warning message in lohboot(thom3[[k]], fun = \"pcf\", nsim = kolikLohu):\n",
      "\"confidence level 0.95 corresponds to a non-integer rank (97.5) so quantiles will be interpolated\"Warning message in lohboot(thom4[[k]], fun = \"pcf\", nsim = kolikLohu):\n",
      "\"confidence level 0.95 corresponds to a non-integer rank (97.5) so quantiles will be interpolated\""
     ]
    },
    {
     "name": "stdout",
     "output_type": "stream",
     "text": [
      "[1] 27\n"
     ]
    },
    {
     "name": "stderr",
     "output_type": "stream",
     "text": [
      "Warning message in lohboot(pos[[k]], fun = \"pcf\", nsim = kolikLohu):\n",
      "\"confidence level 0.95 corresponds to a non-integer rank (97.5) so quantiles will be interpolated\"Warning message in lohboot(thom1[[k]], fun = \"pcf\", nsim = kolikLohu):\n",
      "\"confidence level 0.95 corresponds to a non-integer rank (97.5) so quantiles will be interpolated\"Warning message in lohboot(thom2[[k]], fun = \"pcf\", nsim = kolikLohu):\n",
      "\"confidence level 0.95 corresponds to a non-integer rank (97.5) so quantiles will be interpolated\"Warning message in lohboot(thom3[[k]], fun = \"pcf\", nsim = kolikLohu):\n",
      "\"confidence level 0.95 corresponds to a non-integer rank (97.5) so quantiles will be interpolated\"Warning message in lohboot(thom4[[k]], fun = \"pcf\", nsim = kolikLohu):\n",
      "\"confidence level 0.95 corresponds to a non-integer rank (97.5) so quantiles will be interpolated\""
     ]
    },
    {
     "name": "stdout",
     "output_type": "stream",
     "text": [
      "[1] 28\n"
     ]
    },
    {
     "name": "stderr",
     "output_type": "stream",
     "text": [
      "Warning message in lohboot(pos[[k]], fun = \"pcf\", nsim = kolikLohu):\n",
      "\"confidence level 0.95 corresponds to a non-integer rank (97.5) so quantiles will be interpolated\"Warning message in lohboot(thom1[[k]], fun = \"pcf\", nsim = kolikLohu):\n",
      "\"confidence level 0.95 corresponds to a non-integer rank (97.5) so quantiles will be interpolated\"Warning message in lohboot(thom2[[k]], fun = \"pcf\", nsim = kolikLohu):\n",
      "\"confidence level 0.95 corresponds to a non-integer rank (97.5) so quantiles will be interpolated\"Warning message in lohboot(thom3[[k]], fun = \"pcf\", nsim = kolikLohu):\n",
      "\"confidence level 0.95 corresponds to a non-integer rank (97.5) so quantiles will be interpolated\"Warning message in lohboot(thom4[[k]], fun = \"pcf\", nsim = kolikLohu):\n",
      "\"confidence level 0.95 corresponds to a non-integer rank (97.5) so quantiles will be interpolated\""
     ]
    },
    {
     "name": "stdout",
     "output_type": "stream",
     "text": [
      "[1] 29\n"
     ]
    },
    {
     "name": "stderr",
     "output_type": "stream",
     "text": [
      "Warning message in lohboot(pos[[k]], fun = \"pcf\", nsim = kolikLohu):\n",
      "\"confidence level 0.95 corresponds to a non-integer rank (97.5) so quantiles will be interpolated\"Warning message in lohboot(thom1[[k]], fun = \"pcf\", nsim = kolikLohu):\n",
      "\"confidence level 0.95 corresponds to a non-integer rank (97.5) so quantiles will be interpolated\"Warning message in lohboot(thom2[[k]], fun = \"pcf\", nsim = kolikLohu):\n",
      "\"confidence level 0.95 corresponds to a non-integer rank (97.5) so quantiles will be interpolated\"Warning message in lohboot(thom3[[k]], fun = \"pcf\", nsim = kolikLohu):\n",
      "\"confidence level 0.95 corresponds to a non-integer rank (97.5) so quantiles will be interpolated\"Warning message in lohboot(thom4[[k]], fun = \"pcf\", nsim = kolikLohu):\n",
      "\"confidence level 0.95 corresponds to a non-integer rank (97.5) so quantiles will be interpolated\""
     ]
    },
    {
     "name": "stdout",
     "output_type": "stream",
     "text": [
      "[1] 30\n"
     ]
    },
    {
     "name": "stderr",
     "output_type": "stream",
     "text": [
      "Warning message in lohboot(pos[[k]], fun = \"pcf\", nsim = kolikLohu):\n",
      "\"confidence level 0.95 corresponds to a non-integer rank (97.5) so quantiles will be interpolated\"Warning message in lohboot(thom1[[k]], fun = \"pcf\", nsim = kolikLohu):\n",
      "\"confidence level 0.95 corresponds to a non-integer rank (97.5) so quantiles will be interpolated\"Warning message in lohboot(thom2[[k]], fun = \"pcf\", nsim = kolikLohu):\n",
      "\"confidence level 0.95 corresponds to a non-integer rank (97.5) so quantiles will be interpolated\"Warning message in lohboot(thom3[[k]], fun = \"pcf\", nsim = kolikLohu):\n",
      "\"confidence level 0.95 corresponds to a non-integer rank (97.5) so quantiles will be interpolated\"Warning message in lohboot(thom4[[k]], fun = \"pcf\", nsim = kolikLohu):\n",
      "\"confidence level 0.95 corresponds to a non-integer rank (97.5) so quantiles will be interpolated\""
     ]
    },
    {
     "name": "stdout",
     "output_type": "stream",
     "text": [
      "[1] 31\n"
     ]
    },
    {
     "name": "stderr",
     "output_type": "stream",
     "text": [
      "Warning message in lohboot(pos[[k]], fun = \"pcf\", nsim = kolikLohu):\n",
      "\"confidence level 0.95 corresponds to a non-integer rank (97.5) so quantiles will be interpolated\"Warning message in lohboot(thom1[[k]], fun = \"pcf\", nsim = kolikLohu):\n",
      "\"confidence level 0.95 corresponds to a non-integer rank (97.5) so quantiles will be interpolated\"Warning message in lohboot(thom2[[k]], fun = \"pcf\", nsim = kolikLohu):\n",
      "\"confidence level 0.95 corresponds to a non-integer rank (97.5) so quantiles will be interpolated\"Warning message in lohboot(thom3[[k]], fun = \"pcf\", nsim = kolikLohu):\n",
      "\"confidence level 0.95 corresponds to a non-integer rank (97.5) so quantiles will be interpolated\"Warning message in lohboot(thom4[[k]], fun = \"pcf\", nsim = kolikLohu):\n",
      "\"confidence level 0.95 corresponds to a non-integer rank (97.5) so quantiles will be interpolated\""
     ]
    },
    {
     "name": "stdout",
     "output_type": "stream",
     "text": [
      "[1] 32\n"
     ]
    },
    {
     "name": "stderr",
     "output_type": "stream",
     "text": [
      "Warning message in lohboot(pos[[k]], fun = \"pcf\", nsim = kolikLohu):\n",
      "\"confidence level 0.95 corresponds to a non-integer rank (97.5) so quantiles will be interpolated\"Warning message in lohboot(thom1[[k]], fun = \"pcf\", nsim = kolikLohu):\n",
      "\"confidence level 0.95 corresponds to a non-integer rank (97.5) so quantiles will be interpolated\"Warning message in lohboot(thom2[[k]], fun = \"pcf\", nsim = kolikLohu):\n",
      "\"confidence level 0.95 corresponds to a non-integer rank (97.5) so quantiles will be interpolated\"Warning message in lohboot(thom3[[k]], fun = \"pcf\", nsim = kolikLohu):\n",
      "\"confidence level 0.95 corresponds to a non-integer rank (97.5) so quantiles will be interpolated\"Warning message in lohboot(thom4[[k]], fun = \"pcf\", nsim = kolikLohu):\n",
      "\"confidence level 0.95 corresponds to a non-integer rank (97.5) so quantiles will be interpolated\""
     ]
    },
    {
     "name": "stdout",
     "output_type": "stream",
     "text": [
      "[1] 33\n"
     ]
    },
    {
     "name": "stderr",
     "output_type": "stream",
     "text": [
      "Warning message in lohboot(pos[[k]], fun = \"pcf\", nsim = kolikLohu):\n",
      "\"confidence level 0.95 corresponds to a non-integer rank (97.5) so quantiles will be interpolated\"Warning message in lohboot(thom1[[k]], fun = \"pcf\", nsim = kolikLohu):\n",
      "\"confidence level 0.95 corresponds to a non-integer rank (97.5) so quantiles will be interpolated\"Warning message in lohboot(thom2[[k]], fun = \"pcf\", nsim = kolikLohu):\n",
      "\"confidence level 0.95 corresponds to a non-integer rank (97.5) so quantiles will be interpolated\"Warning message in lohboot(thom3[[k]], fun = \"pcf\", nsim = kolikLohu):\n",
      "\"confidence level 0.95 corresponds to a non-integer rank (97.5) so quantiles will be interpolated\"Warning message in lohboot(thom4[[k]], fun = \"pcf\", nsim = kolikLohu):\n",
      "\"confidence level 0.95 corresponds to a non-integer rank (97.5) so quantiles will be interpolated\""
     ]
    },
    {
     "name": "stdout",
     "output_type": "stream",
     "text": [
      "[1] 34\n"
     ]
    },
    {
     "name": "stderr",
     "output_type": "stream",
     "text": [
      "Warning message in lohboot(pos[[k]], fun = \"pcf\", nsim = kolikLohu):\n",
      "\"confidence level 0.95 corresponds to a non-integer rank (97.5) so quantiles will be interpolated\"Warning message in lohboot(thom1[[k]], fun = \"pcf\", nsim = kolikLohu):\n",
      "\"confidence level 0.95 corresponds to a non-integer rank (97.5) so quantiles will be interpolated\"Warning message in lohboot(thom2[[k]], fun = \"pcf\", nsim = kolikLohu):\n",
      "\"confidence level 0.95 corresponds to a non-integer rank (97.5) so quantiles will be interpolated\"Warning message in lohboot(thom3[[k]], fun = \"pcf\", nsim = kolikLohu):\n",
      "\"confidence level 0.95 corresponds to a non-integer rank (97.5) so quantiles will be interpolated\"Warning message in lohboot(thom4[[k]], fun = \"pcf\", nsim = kolikLohu):\n",
      "\"confidence level 0.95 corresponds to a non-integer rank (97.5) so quantiles will be interpolated\""
     ]
    },
    {
     "name": "stdout",
     "output_type": "stream",
     "text": [
      "[1] 35\n"
     ]
    },
    {
     "name": "stderr",
     "output_type": "stream",
     "text": [
      "Warning message in lohboot(pos[[k]], fun = \"pcf\", nsim = kolikLohu):\n",
      "\"confidence level 0.95 corresponds to a non-integer rank (97.5) so quantiles will be interpolated\"Warning message in lohboot(thom1[[k]], fun = \"pcf\", nsim = kolikLohu):\n",
      "\"confidence level 0.95 corresponds to a non-integer rank (97.5) so quantiles will be interpolated\"Warning message in lohboot(thom2[[k]], fun = \"pcf\", nsim = kolikLohu):\n",
      "\"confidence level 0.95 corresponds to a non-integer rank (97.5) so quantiles will be interpolated\"Warning message in lohboot(thom3[[k]], fun = \"pcf\", nsim = kolikLohu):\n",
      "\"confidence level 0.95 corresponds to a non-integer rank (97.5) so quantiles will be interpolated\"Warning message in lohboot(thom4[[k]], fun = \"pcf\", nsim = kolikLohu):\n",
      "\"confidence level 0.95 corresponds to a non-integer rank (97.5) so quantiles will be interpolated\""
     ]
    },
    {
     "name": "stdout",
     "output_type": "stream",
     "text": [
      "[1] 36\n"
     ]
    },
    {
     "name": "stderr",
     "output_type": "stream",
     "text": [
      "Warning message in lohboot(pos[[k]], fun = \"pcf\", nsim = kolikLohu):\n",
      "\"confidence level 0.95 corresponds to a non-integer rank (97.5) so quantiles will be interpolated\"Warning message in lohboot(thom1[[k]], fun = \"pcf\", nsim = kolikLohu):\n",
      "\"confidence level 0.95 corresponds to a non-integer rank (97.5) so quantiles will be interpolated\"Warning message in lohboot(thom2[[k]], fun = \"pcf\", nsim = kolikLohu):\n",
      "\"confidence level 0.95 corresponds to a non-integer rank (97.5) so quantiles will be interpolated\"Warning message in lohboot(thom3[[k]], fun = \"pcf\", nsim = kolikLohu):\n",
      "\"confidence level 0.95 corresponds to a non-integer rank (97.5) so quantiles will be interpolated\"Warning message in lohboot(thom4[[k]], fun = \"pcf\", nsim = kolikLohu):\n",
      "\"confidence level 0.95 corresponds to a non-integer rank (97.5) so quantiles will be interpolated\""
     ]
    },
    {
     "name": "stdout",
     "output_type": "stream",
     "text": [
      "[1] 37\n"
     ]
    },
    {
     "name": "stderr",
     "output_type": "stream",
     "text": [
      "Warning message in lohboot(pos[[k]], fun = \"pcf\", nsim = kolikLohu):\n",
      "\"confidence level 0.95 corresponds to a non-integer rank (97.5) so quantiles will be interpolated\"Warning message in lohboot(thom1[[k]], fun = \"pcf\", nsim = kolikLohu):\n",
      "\"confidence level 0.95 corresponds to a non-integer rank (97.5) so quantiles will be interpolated\"Warning message in lohboot(thom2[[k]], fun = \"pcf\", nsim = kolikLohu):\n",
      "\"confidence level 0.95 corresponds to a non-integer rank (97.5) so quantiles will be interpolated\"Warning message in lohboot(thom3[[k]], fun = \"pcf\", nsim = kolikLohu):\n",
      "\"confidence level 0.95 corresponds to a non-integer rank (97.5) so quantiles will be interpolated\"Warning message in lohboot(thom4[[k]], fun = \"pcf\", nsim = kolikLohu):\n",
      "\"confidence level 0.95 corresponds to a non-integer rank (97.5) so quantiles will be interpolated\""
     ]
    },
    {
     "name": "stdout",
     "output_type": "stream",
     "text": [
      "[1] 38\n"
     ]
    },
    {
     "name": "stderr",
     "output_type": "stream",
     "text": [
      "Warning message in lohboot(pos[[k]], fun = \"pcf\", nsim = kolikLohu):\n",
      "\"confidence level 0.95 corresponds to a non-integer rank (97.5) so quantiles will be interpolated\"Warning message in lohboot(thom1[[k]], fun = \"pcf\", nsim = kolikLohu):\n",
      "\"confidence level 0.95 corresponds to a non-integer rank (97.5) so quantiles will be interpolated\"Warning message in lohboot(thom2[[k]], fun = \"pcf\", nsim = kolikLohu):\n",
      "\"confidence level 0.95 corresponds to a non-integer rank (97.5) so quantiles will be interpolated\"Warning message in lohboot(thom3[[k]], fun = \"pcf\", nsim = kolikLohu):\n",
      "\"confidence level 0.95 corresponds to a non-integer rank (97.5) so quantiles will be interpolated\"Warning message in lohboot(thom4[[k]], fun = \"pcf\", nsim = kolikLohu):\n",
      "\"confidence level 0.95 corresponds to a non-integer rank (97.5) so quantiles will be interpolated\""
     ]
    },
    {
     "name": "stdout",
     "output_type": "stream",
     "text": [
      "[1] 39\n"
     ]
    },
    {
     "name": "stderr",
     "output_type": "stream",
     "text": [
      "Warning message in lohboot(pos[[k]], fun = \"pcf\", nsim = kolikLohu):\n",
      "\"confidence level 0.95 corresponds to a non-integer rank (97.5) so quantiles will be interpolated\"Warning message in lohboot(thom1[[k]], fun = \"pcf\", nsim = kolikLohu):\n",
      "\"confidence level 0.95 corresponds to a non-integer rank (97.5) so quantiles will be interpolated\"Warning message in lohboot(thom2[[k]], fun = \"pcf\", nsim = kolikLohu):\n",
      "\"confidence level 0.95 corresponds to a non-integer rank (97.5) so quantiles will be interpolated\"Warning message in lohboot(thom3[[k]], fun = \"pcf\", nsim = kolikLohu):\n",
      "\"confidence level 0.95 corresponds to a non-integer rank (97.5) so quantiles will be interpolated\"Warning message in lohboot(thom4[[k]], fun = \"pcf\", nsim = kolikLohu):\n",
      "\"confidence level 0.95 corresponds to a non-integer rank (97.5) so quantiles will be interpolated\""
     ]
    },
    {
     "name": "stdout",
     "output_type": "stream",
     "text": [
      "[1] 40\n"
     ]
    },
    {
     "name": "stderr",
     "output_type": "stream",
     "text": [
      "Warning message in lohboot(pos[[k]], fun = \"pcf\", nsim = kolikLohu):\n",
      "\"confidence level 0.95 corresponds to a non-integer rank (97.5) so quantiles will be interpolated\"Warning message in lohboot(thom1[[k]], fun = \"pcf\", nsim = kolikLohu):\n",
      "\"confidence level 0.95 corresponds to a non-integer rank (97.5) so quantiles will be interpolated\"Warning message in lohboot(thom2[[k]], fun = \"pcf\", nsim = kolikLohu):\n",
      "\"confidence level 0.95 corresponds to a non-integer rank (97.5) so quantiles will be interpolated\"Warning message in lohboot(thom3[[k]], fun = \"pcf\", nsim = kolikLohu):\n",
      "\"confidence level 0.95 corresponds to a non-integer rank (97.5) so quantiles will be interpolated\"Warning message in lohboot(thom4[[k]], fun = \"pcf\", nsim = kolikLohu):\n",
      "\"confidence level 0.95 corresponds to a non-integer rank (97.5) so quantiles will be interpolated\""
     ]
    },
    {
     "name": "stdout",
     "output_type": "stream",
     "text": [
      "[1] 41\n"
     ]
    },
    {
     "name": "stderr",
     "output_type": "stream",
     "text": [
      "Warning message in lohboot(pos[[k]], fun = \"pcf\", nsim = kolikLohu):\n",
      "\"confidence level 0.95 corresponds to a non-integer rank (97.5) so quantiles will be interpolated\"Warning message in lohboot(thom1[[k]], fun = \"pcf\", nsim = kolikLohu):\n",
      "\"confidence level 0.95 corresponds to a non-integer rank (97.5) so quantiles will be interpolated\"Warning message in lohboot(thom2[[k]], fun = \"pcf\", nsim = kolikLohu):\n",
      "\"confidence level 0.95 corresponds to a non-integer rank (97.5) so quantiles will be interpolated\"Warning message in lohboot(thom3[[k]], fun = \"pcf\", nsim = kolikLohu):\n",
      "\"confidence level 0.95 corresponds to a non-integer rank (97.5) so quantiles will be interpolated\"Warning message in lohboot(thom4[[k]], fun = \"pcf\", nsim = kolikLohu):\n",
      "\"confidence level 0.95 corresponds to a non-integer rank (97.5) so quantiles will be interpolated\""
     ]
    },
    {
     "name": "stdout",
     "output_type": "stream",
     "text": [
      "[1] 42\n"
     ]
    },
    {
     "name": "stderr",
     "output_type": "stream",
     "text": [
      "Warning message in lohboot(pos[[k]], fun = \"pcf\", nsim = kolikLohu):\n",
      "\"confidence level 0.95 corresponds to a non-integer rank (97.5) so quantiles will be interpolated\"Warning message in lohboot(thom1[[k]], fun = \"pcf\", nsim = kolikLohu):\n",
      "\"confidence level 0.95 corresponds to a non-integer rank (97.5) so quantiles will be interpolated\"Warning message in lohboot(thom2[[k]], fun = \"pcf\", nsim = kolikLohu):\n",
      "\"confidence level 0.95 corresponds to a non-integer rank (97.5) so quantiles will be interpolated\"Warning message in lohboot(thom3[[k]], fun = \"pcf\", nsim = kolikLohu):\n",
      "\"confidence level 0.95 corresponds to a non-integer rank (97.5) so quantiles will be interpolated\"Warning message in lohboot(thom4[[k]], fun = \"pcf\", nsim = kolikLohu):\n",
      "\"confidence level 0.95 corresponds to a non-integer rank (97.5) so quantiles will be interpolated\""
     ]
    },
    {
     "name": "stdout",
     "output_type": "stream",
     "text": [
      "[1] 43\n"
     ]
    },
    {
     "name": "stderr",
     "output_type": "stream",
     "text": [
      "Warning message in lohboot(pos[[k]], fun = \"pcf\", nsim = kolikLohu):\n",
      "\"confidence level 0.95 corresponds to a non-integer rank (97.5) so quantiles will be interpolated\"Warning message in lohboot(thom1[[k]], fun = \"pcf\", nsim = kolikLohu):\n",
      "\"confidence level 0.95 corresponds to a non-integer rank (97.5) so quantiles will be interpolated\"Warning message in lohboot(thom2[[k]], fun = \"pcf\", nsim = kolikLohu):\n",
      "\"confidence level 0.95 corresponds to a non-integer rank (97.5) so quantiles will be interpolated\"Warning message in lohboot(thom3[[k]], fun = \"pcf\", nsim = kolikLohu):\n",
      "\"confidence level 0.95 corresponds to a non-integer rank (97.5) so quantiles will be interpolated\"Warning message in lohboot(thom4[[k]], fun = \"pcf\", nsim = kolikLohu):\n",
      "\"confidence level 0.95 corresponds to a non-integer rank (97.5) so quantiles will be interpolated\""
     ]
    },
    {
     "name": "stdout",
     "output_type": "stream",
     "text": [
      "[1] 44\n"
     ]
    },
    {
     "name": "stderr",
     "output_type": "stream",
     "text": [
      "Warning message in lohboot(pos[[k]], fun = \"pcf\", nsim = kolikLohu):\n",
      "\"confidence level 0.95 corresponds to a non-integer rank (97.5) so quantiles will be interpolated\"Warning message in lohboot(thom1[[k]], fun = \"pcf\", nsim = kolikLohu):\n",
      "\"confidence level 0.95 corresponds to a non-integer rank (97.5) so quantiles will be interpolated\"Warning message in lohboot(thom2[[k]], fun = \"pcf\", nsim = kolikLohu):\n",
      "\"confidence level 0.95 corresponds to a non-integer rank (97.5) so quantiles will be interpolated\"Warning message in lohboot(thom3[[k]], fun = \"pcf\", nsim = kolikLohu):\n",
      "\"confidence level 0.95 corresponds to a non-integer rank (97.5) so quantiles will be interpolated\"Warning message in lohboot(thom4[[k]], fun = \"pcf\", nsim = kolikLohu):\n",
      "\"confidence level 0.95 corresponds to a non-integer rank (97.5) so quantiles will be interpolated\""
     ]
    },
    {
     "name": "stdout",
     "output_type": "stream",
     "text": [
      "[1] 45\n"
     ]
    },
    {
     "name": "stderr",
     "output_type": "stream",
     "text": [
      "Warning message in lohboot(pos[[k]], fun = \"pcf\", nsim = kolikLohu):\n",
      "\"confidence level 0.95 corresponds to a non-integer rank (97.5) so quantiles will be interpolated\"Warning message in lohboot(thom1[[k]], fun = \"pcf\", nsim = kolikLohu):\n",
      "\"confidence level 0.95 corresponds to a non-integer rank (97.5) so quantiles will be interpolated\"Warning message in lohboot(thom2[[k]], fun = \"pcf\", nsim = kolikLohu):\n",
      "\"confidence level 0.95 corresponds to a non-integer rank (97.5) so quantiles will be interpolated\"Warning message in lohboot(thom3[[k]], fun = \"pcf\", nsim = kolikLohu):\n",
      "\"confidence level 0.95 corresponds to a non-integer rank (97.5) so quantiles will be interpolated\"Warning message in lohboot(thom4[[k]], fun = \"pcf\", nsim = kolikLohu):\n",
      "\"confidence level 0.95 corresponds to a non-integer rank (97.5) so quantiles will be interpolated\""
     ]
    },
    {
     "name": "stdout",
     "output_type": "stream",
     "text": [
      "[1] 46\n"
     ]
    },
    {
     "name": "stderr",
     "output_type": "stream",
     "text": [
      "Warning message in lohboot(pos[[k]], fun = \"pcf\", nsim = kolikLohu):\n",
      "\"confidence level 0.95 corresponds to a non-integer rank (97.5) so quantiles will be interpolated\"Warning message in lohboot(thom1[[k]], fun = \"pcf\", nsim = kolikLohu):\n",
      "\"confidence level 0.95 corresponds to a non-integer rank (97.5) so quantiles will be interpolated\"Warning message in lohboot(thom2[[k]], fun = \"pcf\", nsim = kolikLohu):\n",
      "\"confidence level 0.95 corresponds to a non-integer rank (97.5) so quantiles will be interpolated\"Warning message in lohboot(thom3[[k]], fun = \"pcf\", nsim = kolikLohu):\n",
      "\"confidence level 0.95 corresponds to a non-integer rank (97.5) so quantiles will be interpolated\"Warning message in lohboot(thom4[[k]], fun = \"pcf\", nsim = kolikLohu):\n",
      "\"confidence level 0.95 corresponds to a non-integer rank (97.5) so quantiles will be interpolated\""
     ]
    },
    {
     "name": "stdout",
     "output_type": "stream",
     "text": [
      "[1] 47\n"
     ]
    },
    {
     "name": "stderr",
     "output_type": "stream",
     "text": [
      "Warning message in lohboot(pos[[k]], fun = \"pcf\", nsim = kolikLohu):\n",
      "\"confidence level 0.95 corresponds to a non-integer rank (97.5) so quantiles will be interpolated\"Warning message in lohboot(thom1[[k]], fun = \"pcf\", nsim = kolikLohu):\n",
      "\"confidence level 0.95 corresponds to a non-integer rank (97.5) so quantiles will be interpolated\"Warning message in lohboot(thom2[[k]], fun = \"pcf\", nsim = kolikLohu):\n",
      "\"confidence level 0.95 corresponds to a non-integer rank (97.5) so quantiles will be interpolated\"Warning message in lohboot(thom3[[k]], fun = \"pcf\", nsim = kolikLohu):\n",
      "\"confidence level 0.95 corresponds to a non-integer rank (97.5) so quantiles will be interpolated\"Warning message in lohboot(thom4[[k]], fun = \"pcf\", nsim = kolikLohu):\n",
      "\"confidence level 0.95 corresponds to a non-integer rank (97.5) so quantiles will be interpolated\""
     ]
    },
    {
     "name": "stdout",
     "output_type": "stream",
     "text": [
      "[1] 48\n"
     ]
    },
    {
     "name": "stderr",
     "output_type": "stream",
     "text": [
      "Warning message in lohboot(pos[[k]], fun = \"pcf\", nsim = kolikLohu):\n",
      "\"confidence level 0.95 corresponds to a non-integer rank (97.5) so quantiles will be interpolated\"Warning message in lohboot(thom1[[k]], fun = \"pcf\", nsim = kolikLohu):\n",
      "\"confidence level 0.95 corresponds to a non-integer rank (97.5) so quantiles will be interpolated\"Warning message in lohboot(thom2[[k]], fun = \"pcf\", nsim = kolikLohu):\n",
      "\"confidence level 0.95 corresponds to a non-integer rank (97.5) so quantiles will be interpolated\"Warning message in lohboot(thom3[[k]], fun = \"pcf\", nsim = kolikLohu):\n",
      "\"confidence level 0.95 corresponds to a non-integer rank (97.5) so quantiles will be interpolated\"Warning message in lohboot(thom4[[k]], fun = \"pcf\", nsim = kolikLohu):\n",
      "\"confidence level 0.95 corresponds to a non-integer rank (97.5) so quantiles will be interpolated\""
     ]
    },
    {
     "name": "stdout",
     "output_type": "stream",
     "text": [
      "[1] 49\n"
     ]
    },
    {
     "name": "stderr",
     "output_type": "stream",
     "text": [
      "Warning message in lohboot(pos[[k]], fun = \"pcf\", nsim = kolikLohu):\n",
      "\"confidence level 0.95 corresponds to a non-integer rank (97.5) so quantiles will be interpolated\"Warning message in lohboot(thom1[[k]], fun = \"pcf\", nsim = kolikLohu):\n",
      "\"confidence level 0.95 corresponds to a non-integer rank (97.5) so quantiles will be interpolated\"Warning message in lohboot(thom2[[k]], fun = \"pcf\", nsim = kolikLohu):\n",
      "\"confidence level 0.95 corresponds to a non-integer rank (97.5) so quantiles will be interpolated\"Warning message in lohboot(thom3[[k]], fun = \"pcf\", nsim = kolikLohu):\n",
      "\"confidence level 0.95 corresponds to a non-integer rank (97.5) so quantiles will be interpolated\"Warning message in lohboot(thom4[[k]], fun = \"pcf\", nsim = kolikLohu):\n",
      "\"confidence level 0.95 corresponds to a non-integer rank (97.5) so quantiles will be interpolated\""
     ]
    },
    {
     "name": "stdout",
     "output_type": "stream",
     "text": [
      "[1] 50\n"
     ]
    },
    {
     "name": "stderr",
     "output_type": "stream",
     "text": [
      "Warning message in lohboot(pos[[k]], fun = \"pcf\", nsim = kolikLohu):\n",
      "\"confidence level 0.95 corresponds to a non-integer rank (97.5) so quantiles will be interpolated\"Warning message in lohboot(thom1[[k]], fun = \"pcf\", nsim = kolikLohu):\n",
      "\"confidence level 0.95 corresponds to a non-integer rank (97.5) so quantiles will be interpolated\"Warning message in lohboot(thom2[[k]], fun = \"pcf\", nsim = kolikLohu):\n",
      "\"confidence level 0.95 corresponds to a non-integer rank (97.5) so quantiles will be interpolated\"Warning message in lohboot(thom3[[k]], fun = \"pcf\", nsim = kolikLohu):\n",
      "\"confidence level 0.95 corresponds to a non-integer rank (97.5) so quantiles will be interpolated\"Warning message in lohboot(thom4[[k]], fun = \"pcf\", nsim = kolikLohu):\n",
      "\"confidence level 0.95 corresponds to a non-integer rank (97.5) so quantiles will be interpolated\""
     ]
    },
    {
     "name": "stdout",
     "output_type": "stream",
     "text": [
      "[1] 51\n"
     ]
    },
    {
     "name": "stderr",
     "output_type": "stream",
     "text": [
      "Warning message in lohboot(pos[[k]], fun = \"pcf\", nsim = kolikLohu):\n",
      "\"confidence level 0.95 corresponds to a non-integer rank (97.5) so quantiles will be interpolated\"Warning message in lohboot(thom1[[k]], fun = \"pcf\", nsim = kolikLohu):\n",
      "\"confidence level 0.95 corresponds to a non-integer rank (97.5) so quantiles will be interpolated\"Warning message in lohboot(thom2[[k]], fun = \"pcf\", nsim = kolikLohu):\n",
      "\"confidence level 0.95 corresponds to a non-integer rank (97.5) so quantiles will be interpolated\"Warning message in lohboot(thom3[[k]], fun = \"pcf\", nsim = kolikLohu):\n",
      "\"confidence level 0.95 corresponds to a non-integer rank (97.5) so quantiles will be interpolated\"Warning message in lohboot(thom4[[k]], fun = \"pcf\", nsim = kolikLohu):\n",
      "\"confidence level 0.95 corresponds to a non-integer rank (97.5) so quantiles will be interpolated\""
     ]
    },
    {
     "name": "stdout",
     "output_type": "stream",
     "text": [
      "[1] 52\n"
     ]
    },
    {
     "name": "stderr",
     "output_type": "stream",
     "text": [
      "Warning message in lohboot(pos[[k]], fun = \"pcf\", nsim = kolikLohu):\n",
      "\"confidence level 0.95 corresponds to a non-integer rank (97.5) so quantiles will be interpolated\"Warning message in lohboot(thom1[[k]], fun = \"pcf\", nsim = kolikLohu):\n",
      "\"confidence level 0.95 corresponds to a non-integer rank (97.5) so quantiles will be interpolated\"Warning message in lohboot(thom2[[k]], fun = \"pcf\", nsim = kolikLohu):\n",
      "\"confidence level 0.95 corresponds to a non-integer rank (97.5) so quantiles will be interpolated\"Warning message in lohboot(thom3[[k]], fun = \"pcf\", nsim = kolikLohu):\n",
      "\"confidence level 0.95 corresponds to a non-integer rank (97.5) so quantiles will be interpolated\"Warning message in lohboot(thom4[[k]], fun = \"pcf\", nsim = kolikLohu):\n",
      "\"confidence level 0.95 corresponds to a non-integer rank (97.5) so quantiles will be interpolated\""
     ]
    },
    {
     "name": "stdout",
     "output_type": "stream",
     "text": [
      "[1] 53\n"
     ]
    },
    {
     "name": "stderr",
     "output_type": "stream",
     "text": [
      "Warning message in lohboot(pos[[k]], fun = \"pcf\", nsim = kolikLohu):\n",
      "\"confidence level 0.95 corresponds to a non-integer rank (97.5) so quantiles will be interpolated\"Warning message in lohboot(thom1[[k]], fun = \"pcf\", nsim = kolikLohu):\n",
      "\"confidence level 0.95 corresponds to a non-integer rank (97.5) so quantiles will be interpolated\"Warning message in lohboot(thom2[[k]], fun = \"pcf\", nsim = kolikLohu):\n",
      "\"confidence level 0.95 corresponds to a non-integer rank (97.5) so quantiles will be interpolated\"Warning message in lohboot(thom3[[k]], fun = \"pcf\", nsim = kolikLohu):\n",
      "\"confidence level 0.95 corresponds to a non-integer rank (97.5) so quantiles will be interpolated\"Warning message in lohboot(thom4[[k]], fun = \"pcf\", nsim = kolikLohu):\n",
      "\"confidence level 0.95 corresponds to a non-integer rank (97.5) so quantiles will be interpolated\""
     ]
    },
    {
     "name": "stdout",
     "output_type": "stream",
     "text": [
      "[1] 54\n"
     ]
    },
    {
     "name": "stderr",
     "output_type": "stream",
     "text": [
      "Warning message in lohboot(pos[[k]], fun = \"pcf\", nsim = kolikLohu):\n",
      "\"confidence level 0.95 corresponds to a non-integer rank (97.5) so quantiles will be interpolated\"Warning message in lohboot(thom1[[k]], fun = \"pcf\", nsim = kolikLohu):\n",
      "\"confidence level 0.95 corresponds to a non-integer rank (97.5) so quantiles will be interpolated\"Warning message in lohboot(thom2[[k]], fun = \"pcf\", nsim = kolikLohu):\n",
      "\"confidence level 0.95 corresponds to a non-integer rank (97.5) so quantiles will be interpolated\"Warning message in lohboot(thom3[[k]], fun = \"pcf\", nsim = kolikLohu):\n",
      "\"confidence level 0.95 corresponds to a non-integer rank (97.5) so quantiles will be interpolated\"Warning message in lohboot(thom4[[k]], fun = \"pcf\", nsim = kolikLohu):\n",
      "\"confidence level 0.95 corresponds to a non-integer rank (97.5) so quantiles will be interpolated\""
     ]
    },
    {
     "name": "stdout",
     "output_type": "stream",
     "text": [
      "[1] 55\n"
     ]
    },
    {
     "name": "stderr",
     "output_type": "stream",
     "text": [
      "Warning message in lohboot(pos[[k]], fun = \"pcf\", nsim = kolikLohu):\n",
      "\"confidence level 0.95 corresponds to a non-integer rank (97.5) so quantiles will be interpolated\"Warning message in lohboot(thom1[[k]], fun = \"pcf\", nsim = kolikLohu):\n",
      "\"confidence level 0.95 corresponds to a non-integer rank (97.5) so quantiles will be interpolated\"Warning message in lohboot(thom2[[k]], fun = \"pcf\", nsim = kolikLohu):\n",
      "\"confidence level 0.95 corresponds to a non-integer rank (97.5) so quantiles will be interpolated\"Warning message in lohboot(thom3[[k]], fun = \"pcf\", nsim = kolikLohu):\n",
      "\"confidence level 0.95 corresponds to a non-integer rank (97.5) so quantiles will be interpolated\"Warning message in lohboot(thom4[[k]], fun = \"pcf\", nsim = kolikLohu):\n",
      "\"confidence level 0.95 corresponds to a non-integer rank (97.5) so quantiles will be interpolated\""
     ]
    },
    {
     "name": "stdout",
     "output_type": "stream",
     "text": [
      "[1] 56\n"
     ]
    },
    {
     "name": "stderr",
     "output_type": "stream",
     "text": [
      "Warning message in lohboot(pos[[k]], fun = \"pcf\", nsim = kolikLohu):\n",
      "\"confidence level 0.95 corresponds to a non-integer rank (97.5) so quantiles will be interpolated\"Warning message in lohboot(thom1[[k]], fun = \"pcf\", nsim = kolikLohu):\n",
      "\"confidence level 0.95 corresponds to a non-integer rank (97.5) so quantiles will be interpolated\"Warning message in lohboot(thom2[[k]], fun = \"pcf\", nsim = kolikLohu):\n",
      "\"confidence level 0.95 corresponds to a non-integer rank (97.5) so quantiles will be interpolated\"Warning message in lohboot(thom3[[k]], fun = \"pcf\", nsim = kolikLohu):\n",
      "\"confidence level 0.95 corresponds to a non-integer rank (97.5) so quantiles will be interpolated\"Warning message in lohboot(thom4[[k]], fun = \"pcf\", nsim = kolikLohu):\n",
      "\"confidence level 0.95 corresponds to a non-integer rank (97.5) so quantiles will be interpolated\""
     ]
    },
    {
     "name": "stdout",
     "output_type": "stream",
     "text": [
      "[1] 57\n"
     ]
    },
    {
     "name": "stderr",
     "output_type": "stream",
     "text": [
      "Warning message in lohboot(pos[[k]], fun = \"pcf\", nsim = kolikLohu):\n",
      "\"confidence level 0.95 corresponds to a non-integer rank (97.5) so quantiles will be interpolated\"Warning message in lohboot(thom1[[k]], fun = \"pcf\", nsim = kolikLohu):\n",
      "\"confidence level 0.95 corresponds to a non-integer rank (97.5) so quantiles will be interpolated\"Warning message in lohboot(thom2[[k]], fun = \"pcf\", nsim = kolikLohu):\n",
      "\"confidence level 0.95 corresponds to a non-integer rank (97.5) so quantiles will be interpolated\"Warning message in lohboot(thom3[[k]], fun = \"pcf\", nsim = kolikLohu):\n",
      "\"confidence level 0.95 corresponds to a non-integer rank (97.5) so quantiles will be interpolated\"Warning message in lohboot(thom4[[k]], fun = \"pcf\", nsim = kolikLohu):\n",
      "\"confidence level 0.95 corresponds to a non-integer rank (97.5) so quantiles will be interpolated\""
     ]
    },
    {
     "name": "stdout",
     "output_type": "stream",
     "text": [
      "[1] 58\n"
     ]
    },
    {
     "name": "stderr",
     "output_type": "stream",
     "text": [
      "Warning message in lohboot(pos[[k]], fun = \"pcf\", nsim = kolikLohu):\n",
      "\"confidence level 0.95 corresponds to a non-integer rank (97.5) so quantiles will be interpolated\"Warning message in lohboot(thom1[[k]], fun = \"pcf\", nsim = kolikLohu):\n",
      "\"confidence level 0.95 corresponds to a non-integer rank (97.5) so quantiles will be interpolated\"Warning message in lohboot(thom2[[k]], fun = \"pcf\", nsim = kolikLohu):\n",
      "\"confidence level 0.95 corresponds to a non-integer rank (97.5) so quantiles will be interpolated\"Warning message in lohboot(thom3[[k]], fun = \"pcf\", nsim = kolikLohu):\n",
      "\"confidence level 0.95 corresponds to a non-integer rank (97.5) so quantiles will be interpolated\"Warning message in lohboot(thom4[[k]], fun = \"pcf\", nsim = kolikLohu):\n",
      "\"confidence level 0.95 corresponds to a non-integer rank (97.5) so quantiles will be interpolated\""
     ]
    },
    {
     "name": "stdout",
     "output_type": "stream",
     "text": [
      "[1] 59\n"
     ]
    },
    {
     "name": "stderr",
     "output_type": "stream",
     "text": [
      "Warning message in lohboot(pos[[k]], fun = \"pcf\", nsim = kolikLohu):\n",
      "\"confidence level 0.95 corresponds to a non-integer rank (97.5) so quantiles will be interpolated\"Warning message in lohboot(thom1[[k]], fun = \"pcf\", nsim = kolikLohu):\n",
      "\"confidence level 0.95 corresponds to a non-integer rank (97.5) so quantiles will be interpolated\"Warning message in lohboot(thom2[[k]], fun = \"pcf\", nsim = kolikLohu):\n",
      "\"confidence level 0.95 corresponds to a non-integer rank (97.5) so quantiles will be interpolated\"Warning message in lohboot(thom3[[k]], fun = \"pcf\", nsim = kolikLohu):\n",
      "\"confidence level 0.95 corresponds to a non-integer rank (97.5) so quantiles will be interpolated\"Warning message in lohboot(thom4[[k]], fun = \"pcf\", nsim = kolikLohu):\n",
      "\"confidence level 0.95 corresponds to a non-integer rank (97.5) so quantiles will be interpolated\""
     ]
    },
    {
     "name": "stdout",
     "output_type": "stream",
     "text": [
      "[1] 60\n"
     ]
    },
    {
     "name": "stderr",
     "output_type": "stream",
     "text": [
      "Warning message in lohboot(pos[[k]], fun = \"pcf\", nsim = kolikLohu):\n",
      "\"confidence level 0.95 corresponds to a non-integer rank (97.5) so quantiles will be interpolated\"Warning message in lohboot(thom1[[k]], fun = \"pcf\", nsim = kolikLohu):\n",
      "\"confidence level 0.95 corresponds to a non-integer rank (97.5) so quantiles will be interpolated\"Warning message in lohboot(thom2[[k]], fun = \"pcf\", nsim = kolikLohu):\n",
      "\"confidence level 0.95 corresponds to a non-integer rank (97.5) so quantiles will be interpolated\"Warning message in lohboot(thom3[[k]], fun = \"pcf\", nsim = kolikLohu):\n",
      "\"confidence level 0.95 corresponds to a non-integer rank (97.5) so quantiles will be interpolated\"Warning message in lohboot(thom4[[k]], fun = \"pcf\", nsim = kolikLohu):\n",
      "\"confidence level 0.95 corresponds to a non-integer rank (97.5) so quantiles will be interpolated\""
     ]
    },
    {
     "name": "stdout",
     "output_type": "stream",
     "text": [
      "[1] 61\n"
     ]
    },
    {
     "name": "stderr",
     "output_type": "stream",
     "text": [
      "Warning message in lohboot(pos[[k]], fun = \"pcf\", nsim = kolikLohu):\n",
      "\"confidence level 0.95 corresponds to a non-integer rank (97.5) so quantiles will be interpolated\"Warning message in lohboot(thom1[[k]], fun = \"pcf\", nsim = kolikLohu):\n",
      "\"confidence level 0.95 corresponds to a non-integer rank (97.5) so quantiles will be interpolated\"Warning message in lohboot(thom2[[k]], fun = \"pcf\", nsim = kolikLohu):\n",
      "\"confidence level 0.95 corresponds to a non-integer rank (97.5) so quantiles will be interpolated\"Warning message in lohboot(thom3[[k]], fun = \"pcf\", nsim = kolikLohu):\n",
      "\"confidence level 0.95 corresponds to a non-integer rank (97.5) so quantiles will be interpolated\"Warning message in lohboot(thom4[[k]], fun = \"pcf\", nsim = kolikLohu):\n",
      "\"confidence level 0.95 corresponds to a non-integer rank (97.5) so quantiles will be interpolated\""
     ]
    },
    {
     "name": "stdout",
     "output_type": "stream",
     "text": [
      "[1] 62\n"
     ]
    },
    {
     "name": "stderr",
     "output_type": "stream",
     "text": [
      "Warning message in lohboot(pos[[k]], fun = \"pcf\", nsim = kolikLohu):\n",
      "\"confidence level 0.95 corresponds to a non-integer rank (97.5) so quantiles will be interpolated\"Warning message in lohboot(thom1[[k]], fun = \"pcf\", nsim = kolikLohu):\n",
      "\"confidence level 0.95 corresponds to a non-integer rank (97.5) so quantiles will be interpolated\"Warning message in lohboot(thom2[[k]], fun = \"pcf\", nsim = kolikLohu):\n",
      "\"confidence level 0.95 corresponds to a non-integer rank (97.5) so quantiles will be interpolated\"Warning message in lohboot(thom3[[k]], fun = \"pcf\", nsim = kolikLohu):\n",
      "\"confidence level 0.95 corresponds to a non-integer rank (97.5) so quantiles will be interpolated\"Warning message in lohboot(thom4[[k]], fun = \"pcf\", nsim = kolikLohu):\n",
      "\"confidence level 0.95 corresponds to a non-integer rank (97.5) so quantiles will be interpolated\""
     ]
    },
    {
     "name": "stdout",
     "output_type": "stream",
     "text": [
      "[1] 63\n"
     ]
    },
    {
     "name": "stderr",
     "output_type": "stream",
     "text": [
      "Warning message in lohboot(pos[[k]], fun = \"pcf\", nsim = kolikLohu):\n",
      "\"confidence level 0.95 corresponds to a non-integer rank (97.5) so quantiles will be interpolated\"Warning message in lohboot(thom1[[k]], fun = \"pcf\", nsim = kolikLohu):\n",
      "\"confidence level 0.95 corresponds to a non-integer rank (97.5) so quantiles will be interpolated\"Warning message in lohboot(thom2[[k]], fun = \"pcf\", nsim = kolikLohu):\n",
      "\"confidence level 0.95 corresponds to a non-integer rank (97.5) so quantiles will be interpolated\"Warning message in lohboot(thom3[[k]], fun = \"pcf\", nsim = kolikLohu):\n",
      "\"confidence level 0.95 corresponds to a non-integer rank (97.5) so quantiles will be interpolated\"Warning message in lohboot(thom4[[k]], fun = \"pcf\", nsim = kolikLohu):\n",
      "\"confidence level 0.95 corresponds to a non-integer rank (97.5) so quantiles will be interpolated\""
     ]
    },
    {
     "name": "stdout",
     "output_type": "stream",
     "text": [
      "[1] 64\n"
     ]
    },
    {
     "name": "stderr",
     "output_type": "stream",
     "text": [
      "Warning message in lohboot(pos[[k]], fun = \"pcf\", nsim = kolikLohu):\n",
      "\"confidence level 0.95 corresponds to a non-integer rank (97.5) so quantiles will be interpolated\"Warning message in lohboot(thom1[[k]], fun = \"pcf\", nsim = kolikLohu):\n",
      "\"confidence level 0.95 corresponds to a non-integer rank (97.5) so quantiles will be interpolated\"Warning message in lohboot(thom2[[k]], fun = \"pcf\", nsim = kolikLohu):\n",
      "\"confidence level 0.95 corresponds to a non-integer rank (97.5) so quantiles will be interpolated\"Warning message in lohboot(thom3[[k]], fun = \"pcf\", nsim = kolikLohu):\n",
      "\"confidence level 0.95 corresponds to a non-integer rank (97.5) so quantiles will be interpolated\"Warning message in lohboot(thom4[[k]], fun = \"pcf\", nsim = kolikLohu):\n",
      "\"confidence level 0.95 corresponds to a non-integer rank (97.5) so quantiles will be interpolated\""
     ]
    },
    {
     "name": "stdout",
     "output_type": "stream",
     "text": [
      "[1] 65\n"
     ]
    },
    {
     "name": "stderr",
     "output_type": "stream",
     "text": [
      "Warning message in lohboot(pos[[k]], fun = \"pcf\", nsim = kolikLohu):\n",
      "\"confidence level 0.95 corresponds to a non-integer rank (97.5) so quantiles will be interpolated\"Warning message in lohboot(thom1[[k]], fun = \"pcf\", nsim = kolikLohu):\n",
      "\"confidence level 0.95 corresponds to a non-integer rank (97.5) so quantiles will be interpolated\"Warning message in lohboot(thom2[[k]], fun = \"pcf\", nsim = kolikLohu):\n",
      "\"confidence level 0.95 corresponds to a non-integer rank (97.5) so quantiles will be interpolated\"Warning message in lohboot(thom3[[k]], fun = \"pcf\", nsim = kolikLohu):\n",
      "\"confidence level 0.95 corresponds to a non-integer rank (97.5) so quantiles will be interpolated\"Warning message in lohboot(thom4[[k]], fun = \"pcf\", nsim = kolikLohu):\n",
      "\"confidence level 0.95 corresponds to a non-integer rank (97.5) so quantiles will be interpolated\""
     ]
    },
    {
     "name": "stdout",
     "output_type": "stream",
     "text": [
      "[1] 66\n"
     ]
    },
    {
     "name": "stderr",
     "output_type": "stream",
     "text": [
      "Warning message in lohboot(pos[[k]], fun = \"pcf\", nsim = kolikLohu):\n",
      "\"confidence level 0.95 corresponds to a non-integer rank (97.5) so quantiles will be interpolated\"Warning message in lohboot(thom1[[k]], fun = \"pcf\", nsim = kolikLohu):\n",
      "\"confidence level 0.95 corresponds to a non-integer rank (97.5) so quantiles will be interpolated\"Warning message in lohboot(thom2[[k]], fun = \"pcf\", nsim = kolikLohu):\n",
      "\"confidence level 0.95 corresponds to a non-integer rank (97.5) so quantiles will be interpolated\"Warning message in lohboot(thom3[[k]], fun = \"pcf\", nsim = kolikLohu):\n",
      "\"confidence level 0.95 corresponds to a non-integer rank (97.5) so quantiles will be interpolated\"Warning message in lohboot(thom4[[k]], fun = \"pcf\", nsim = kolikLohu):\n",
      "\"confidence level 0.95 corresponds to a non-integer rank (97.5) so quantiles will be interpolated\""
     ]
    },
    {
     "name": "stdout",
     "output_type": "stream",
     "text": [
      "[1] 67\n"
     ]
    },
    {
     "name": "stderr",
     "output_type": "stream",
     "text": [
      "Warning message in lohboot(pos[[k]], fun = \"pcf\", nsim = kolikLohu):\n",
      "\"confidence level 0.95 corresponds to a non-integer rank (97.5) so quantiles will be interpolated\"Warning message in lohboot(thom1[[k]], fun = \"pcf\", nsim = kolikLohu):\n",
      "\"confidence level 0.95 corresponds to a non-integer rank (97.5) so quantiles will be interpolated\"Warning message in lohboot(thom2[[k]], fun = \"pcf\", nsim = kolikLohu):\n",
      "\"confidence level 0.95 corresponds to a non-integer rank (97.5) so quantiles will be interpolated\"Warning message in lohboot(thom3[[k]], fun = \"pcf\", nsim = kolikLohu):\n",
      "\"confidence level 0.95 corresponds to a non-integer rank (97.5) so quantiles will be interpolated\"Warning message in lohboot(thom4[[k]], fun = \"pcf\", nsim = kolikLohu):\n",
      "\"confidence level 0.95 corresponds to a non-integer rank (97.5) so quantiles will be interpolated\""
     ]
    },
    {
     "name": "stdout",
     "output_type": "stream",
     "text": [
      "[1] 68\n"
     ]
    },
    {
     "name": "stderr",
     "output_type": "stream",
     "text": [
      "Warning message in lohboot(pos[[k]], fun = \"pcf\", nsim = kolikLohu):\n",
      "\"confidence level 0.95 corresponds to a non-integer rank (97.5) so quantiles will be interpolated\"Warning message in lohboot(thom1[[k]], fun = \"pcf\", nsim = kolikLohu):\n",
      "\"confidence level 0.95 corresponds to a non-integer rank (97.5) so quantiles will be interpolated\"Warning message in lohboot(thom2[[k]], fun = \"pcf\", nsim = kolikLohu):\n",
      "\"confidence level 0.95 corresponds to a non-integer rank (97.5) so quantiles will be interpolated\"Warning message in lohboot(thom3[[k]], fun = \"pcf\", nsim = kolikLohu):\n",
      "\"confidence level 0.95 corresponds to a non-integer rank (97.5) so quantiles will be interpolated\"Warning message in lohboot(thom4[[k]], fun = \"pcf\", nsim = kolikLohu):\n",
      "\"confidence level 0.95 corresponds to a non-integer rank (97.5) so quantiles will be interpolated\""
     ]
    },
    {
     "name": "stdout",
     "output_type": "stream",
     "text": [
      "[1] 69\n"
     ]
    },
    {
     "name": "stderr",
     "output_type": "stream",
     "text": [
      "Warning message in lohboot(pos[[k]], fun = \"pcf\", nsim = kolikLohu):\n",
      "\"confidence level 0.95 corresponds to a non-integer rank (97.5) so quantiles will be interpolated\"Warning message in lohboot(thom1[[k]], fun = \"pcf\", nsim = kolikLohu):\n",
      "\"confidence level 0.95 corresponds to a non-integer rank (97.5) so quantiles will be interpolated\"Warning message in lohboot(thom2[[k]], fun = \"pcf\", nsim = kolikLohu):\n",
      "\"confidence level 0.95 corresponds to a non-integer rank (97.5) so quantiles will be interpolated\"Warning message in lohboot(thom3[[k]], fun = \"pcf\", nsim = kolikLohu):\n",
      "\"confidence level 0.95 corresponds to a non-integer rank (97.5) so quantiles will be interpolated\"Warning message in lohboot(thom4[[k]], fun = \"pcf\", nsim = kolikLohu):\n",
      "\"confidence level 0.95 corresponds to a non-integer rank (97.5) so quantiles will be interpolated\""
     ]
    },
    {
     "name": "stdout",
     "output_type": "stream",
     "text": [
      "[1] 70\n"
     ]
    },
    {
     "name": "stderr",
     "output_type": "stream",
     "text": [
      "Warning message in lohboot(pos[[k]], fun = \"pcf\", nsim = kolikLohu):\n",
      "\"confidence level 0.95 corresponds to a non-integer rank (97.5) so quantiles will be interpolated\"Warning message in lohboot(thom1[[k]], fun = \"pcf\", nsim = kolikLohu):\n",
      "\"confidence level 0.95 corresponds to a non-integer rank (97.5) so quantiles will be interpolated\"Warning message in lohboot(thom2[[k]], fun = \"pcf\", nsim = kolikLohu):\n",
      "\"confidence level 0.95 corresponds to a non-integer rank (97.5) so quantiles will be interpolated\"Warning message in lohboot(thom3[[k]], fun = \"pcf\", nsim = kolikLohu):\n",
      "\"confidence level 0.95 corresponds to a non-integer rank (97.5) so quantiles will be interpolated\"Warning message in lohboot(thom4[[k]], fun = \"pcf\", nsim = kolikLohu):\n",
      "\"confidence level 0.95 corresponds to a non-integer rank (97.5) so quantiles will be interpolated\""
     ]
    },
    {
     "name": "stdout",
     "output_type": "stream",
     "text": [
      "[1] 71\n"
     ]
    },
    {
     "name": "stderr",
     "output_type": "stream",
     "text": [
      "Warning message in lohboot(pos[[k]], fun = \"pcf\", nsim = kolikLohu):\n",
      "\"confidence level 0.95 corresponds to a non-integer rank (97.5) so quantiles will be interpolated\"Warning message in lohboot(thom1[[k]], fun = \"pcf\", nsim = kolikLohu):\n",
      "\"confidence level 0.95 corresponds to a non-integer rank (97.5) so quantiles will be interpolated\"Warning message in lohboot(thom2[[k]], fun = \"pcf\", nsim = kolikLohu):\n",
      "\"confidence level 0.95 corresponds to a non-integer rank (97.5) so quantiles will be interpolated\"Warning message in lohboot(thom3[[k]], fun = \"pcf\", nsim = kolikLohu):\n",
      "\"confidence level 0.95 corresponds to a non-integer rank (97.5) so quantiles will be interpolated\"Warning message in lohboot(thom4[[k]], fun = \"pcf\", nsim = kolikLohu):\n",
      "\"confidence level 0.95 corresponds to a non-integer rank (97.5) so quantiles will be interpolated\""
     ]
    },
    {
     "name": "stdout",
     "output_type": "stream",
     "text": [
      "[1] 72\n"
     ]
    },
    {
     "name": "stderr",
     "output_type": "stream",
     "text": [
      "Warning message in lohboot(pos[[k]], fun = \"pcf\", nsim = kolikLohu):\n",
      "\"confidence level 0.95 corresponds to a non-integer rank (97.5) so quantiles will be interpolated\"Warning message in lohboot(thom1[[k]], fun = \"pcf\", nsim = kolikLohu):\n",
      "\"confidence level 0.95 corresponds to a non-integer rank (97.5) so quantiles will be interpolated\"Warning message in lohboot(thom2[[k]], fun = \"pcf\", nsim = kolikLohu):\n",
      "\"confidence level 0.95 corresponds to a non-integer rank (97.5) so quantiles will be interpolated\"Warning message in lohboot(thom3[[k]], fun = \"pcf\", nsim = kolikLohu):\n",
      "\"confidence level 0.95 corresponds to a non-integer rank (97.5) so quantiles will be interpolated\"Warning message in lohboot(thom4[[k]], fun = \"pcf\", nsim = kolikLohu):\n",
      "\"confidence level 0.95 corresponds to a non-integer rank (97.5) so quantiles will be interpolated\""
     ]
    },
    {
     "name": "stdout",
     "output_type": "stream",
     "text": [
      "[1] 73\n"
     ]
    },
    {
     "name": "stderr",
     "output_type": "stream",
     "text": [
      "Warning message in lohboot(pos[[k]], fun = \"pcf\", nsim = kolikLohu):\n",
      "\"confidence level 0.95 corresponds to a non-integer rank (97.5) so quantiles will be interpolated\"Warning message in lohboot(thom1[[k]], fun = \"pcf\", nsim = kolikLohu):\n",
      "\"confidence level 0.95 corresponds to a non-integer rank (97.5) so quantiles will be interpolated\"Warning message in lohboot(thom2[[k]], fun = \"pcf\", nsim = kolikLohu):\n",
      "\"confidence level 0.95 corresponds to a non-integer rank (97.5) so quantiles will be interpolated\"Warning message in lohboot(thom3[[k]], fun = \"pcf\", nsim = kolikLohu):\n",
      "\"confidence level 0.95 corresponds to a non-integer rank (97.5) so quantiles will be interpolated\"Warning message in lohboot(thom4[[k]], fun = \"pcf\", nsim = kolikLohu):\n",
      "\"confidence level 0.95 corresponds to a non-integer rank (97.5) so quantiles will be interpolated\""
     ]
    },
    {
     "name": "stdout",
     "output_type": "stream",
     "text": [
      "[1] 74\n"
     ]
    },
    {
     "name": "stderr",
     "output_type": "stream",
     "text": [
      "Warning message in lohboot(pos[[k]], fun = \"pcf\", nsim = kolikLohu):\n",
      "\"confidence level 0.95 corresponds to a non-integer rank (97.5) so quantiles will be interpolated\"Warning message in lohboot(thom1[[k]], fun = \"pcf\", nsim = kolikLohu):\n",
      "\"confidence level 0.95 corresponds to a non-integer rank (97.5) so quantiles will be interpolated\"Warning message in lohboot(thom2[[k]], fun = \"pcf\", nsim = kolikLohu):\n",
      "\"confidence level 0.95 corresponds to a non-integer rank (97.5) so quantiles will be interpolated\"Warning message in lohboot(thom3[[k]], fun = \"pcf\", nsim = kolikLohu):\n",
      "\"confidence level 0.95 corresponds to a non-integer rank (97.5) so quantiles will be interpolated\"Warning message in lohboot(thom4[[k]], fun = \"pcf\", nsim = kolikLohu):\n",
      "\"confidence level 0.95 corresponds to a non-integer rank (97.5) so quantiles will be interpolated\""
     ]
    },
    {
     "name": "stdout",
     "output_type": "stream",
     "text": [
      "[1] 75\n"
     ]
    },
    {
     "name": "stderr",
     "output_type": "stream",
     "text": [
      "Warning message in lohboot(pos[[k]], fun = \"pcf\", nsim = kolikLohu):\n",
      "\"confidence level 0.95 corresponds to a non-integer rank (97.5) so quantiles will be interpolated\"Warning message in lohboot(thom1[[k]], fun = \"pcf\", nsim = kolikLohu):\n",
      "\"confidence level 0.95 corresponds to a non-integer rank (97.5) so quantiles will be interpolated\"Warning message in lohboot(thom2[[k]], fun = \"pcf\", nsim = kolikLohu):\n",
      "\"confidence level 0.95 corresponds to a non-integer rank (97.5) so quantiles will be interpolated\"Warning message in lohboot(thom3[[k]], fun = \"pcf\", nsim = kolikLohu):\n",
      "\"confidence level 0.95 corresponds to a non-integer rank (97.5) so quantiles will be interpolated\"Warning message in lohboot(thom4[[k]], fun = \"pcf\", nsim = kolikLohu):\n",
      "\"confidence level 0.95 corresponds to a non-integer rank (97.5) so quantiles will be interpolated\""
     ]
    },
    {
     "name": "stdout",
     "output_type": "stream",
     "text": [
      "[1] 76\n"
     ]
    },
    {
     "name": "stderr",
     "output_type": "stream",
     "text": [
      "Warning message in lohboot(pos[[k]], fun = \"pcf\", nsim = kolikLohu):\n",
      "\"confidence level 0.95 corresponds to a non-integer rank (97.5) so quantiles will be interpolated\"Warning message in lohboot(thom1[[k]], fun = \"pcf\", nsim = kolikLohu):\n",
      "\"confidence level 0.95 corresponds to a non-integer rank (97.5) so quantiles will be interpolated\"Warning message in lohboot(thom2[[k]], fun = \"pcf\", nsim = kolikLohu):\n",
      "\"confidence level 0.95 corresponds to a non-integer rank (97.5) so quantiles will be interpolated\"Warning message in lohboot(thom3[[k]], fun = \"pcf\", nsim = kolikLohu):\n",
      "\"confidence level 0.95 corresponds to a non-integer rank (97.5) so quantiles will be interpolated\"Warning message in lohboot(thom4[[k]], fun = \"pcf\", nsim = kolikLohu):\n",
      "\"confidence level 0.95 corresponds to a non-integer rank (97.5) so quantiles will be interpolated\""
     ]
    },
    {
     "name": "stdout",
     "output_type": "stream",
     "text": [
      "[1] 77\n"
     ]
    },
    {
     "name": "stderr",
     "output_type": "stream",
     "text": [
      "Warning message in lohboot(pos[[k]], fun = \"pcf\", nsim = kolikLohu):\n",
      "\"confidence level 0.95 corresponds to a non-integer rank (97.5) so quantiles will be interpolated\"Warning message in lohboot(thom1[[k]], fun = \"pcf\", nsim = kolikLohu):\n",
      "\"confidence level 0.95 corresponds to a non-integer rank (97.5) so quantiles will be interpolated\"Warning message in lohboot(thom2[[k]], fun = \"pcf\", nsim = kolikLohu):\n",
      "\"confidence level 0.95 corresponds to a non-integer rank (97.5) so quantiles will be interpolated\"Warning message in lohboot(thom3[[k]], fun = \"pcf\", nsim = kolikLohu):\n",
      "\"confidence level 0.95 corresponds to a non-integer rank (97.5) so quantiles will be interpolated\"Warning message in lohboot(thom4[[k]], fun = \"pcf\", nsim = kolikLohu):\n",
      "\"confidence level 0.95 corresponds to a non-integer rank (97.5) so quantiles will be interpolated\""
     ]
    },
    {
     "name": "stdout",
     "output_type": "stream",
     "text": [
      "[1] 78\n"
     ]
    },
    {
     "name": "stderr",
     "output_type": "stream",
     "text": [
      "Warning message in lohboot(pos[[k]], fun = \"pcf\", nsim = kolikLohu):\n",
      "\"confidence level 0.95 corresponds to a non-integer rank (97.5) so quantiles will be interpolated\"Warning message in lohboot(thom1[[k]], fun = \"pcf\", nsim = kolikLohu):\n",
      "\"confidence level 0.95 corresponds to a non-integer rank (97.5) so quantiles will be interpolated\"Warning message in lohboot(thom2[[k]], fun = \"pcf\", nsim = kolikLohu):\n",
      "\"confidence level 0.95 corresponds to a non-integer rank (97.5) so quantiles will be interpolated\"Warning message in lohboot(thom3[[k]], fun = \"pcf\", nsim = kolikLohu):\n",
      "\"confidence level 0.95 corresponds to a non-integer rank (97.5) so quantiles will be interpolated\"Warning message in lohboot(thom4[[k]], fun = \"pcf\", nsim = kolikLohu):\n",
      "\"confidence level 0.95 corresponds to a non-integer rank (97.5) so quantiles will be interpolated\""
     ]
    },
    {
     "name": "stdout",
     "output_type": "stream",
     "text": [
      "[1] 79\n"
     ]
    },
    {
     "name": "stderr",
     "output_type": "stream",
     "text": [
      "Warning message in lohboot(pos[[k]], fun = \"pcf\", nsim = kolikLohu):\n",
      "\"confidence level 0.95 corresponds to a non-integer rank (97.5) so quantiles will be interpolated\"Warning message in lohboot(thom1[[k]], fun = \"pcf\", nsim = kolikLohu):\n",
      "\"confidence level 0.95 corresponds to a non-integer rank (97.5) so quantiles will be interpolated\"Warning message in lohboot(thom2[[k]], fun = \"pcf\", nsim = kolikLohu):\n",
      "\"confidence level 0.95 corresponds to a non-integer rank (97.5) so quantiles will be interpolated\"Warning message in lohboot(thom3[[k]], fun = \"pcf\", nsim = kolikLohu):\n",
      "\"confidence level 0.95 corresponds to a non-integer rank (97.5) so quantiles will be interpolated\"Warning message in lohboot(thom4[[k]], fun = \"pcf\", nsim = kolikLohu):\n",
      "\"confidence level 0.95 corresponds to a non-integer rank (97.5) so quantiles will be interpolated\""
     ]
    },
    {
     "name": "stdout",
     "output_type": "stream",
     "text": [
      "[1] 80\n"
     ]
    },
    {
     "name": "stderr",
     "output_type": "stream",
     "text": [
      "Warning message in lohboot(pos[[k]], fun = \"pcf\", nsim = kolikLohu):\n",
      "\"confidence level 0.95 corresponds to a non-integer rank (97.5) so quantiles will be interpolated\"Warning message in lohboot(thom1[[k]], fun = \"pcf\", nsim = kolikLohu):\n",
      "\"confidence level 0.95 corresponds to a non-integer rank (97.5) so quantiles will be interpolated\"Warning message in lohboot(thom2[[k]], fun = \"pcf\", nsim = kolikLohu):\n",
      "\"confidence level 0.95 corresponds to a non-integer rank (97.5) so quantiles will be interpolated\"Warning message in lohboot(thom3[[k]], fun = \"pcf\", nsim = kolikLohu):\n",
      "\"confidence level 0.95 corresponds to a non-integer rank (97.5) so quantiles will be interpolated\"Warning message in lohboot(thom4[[k]], fun = \"pcf\", nsim = kolikLohu):\n",
      "\"confidence level 0.95 corresponds to a non-integer rank (97.5) so quantiles will be interpolated\""
     ]
    },
    {
     "name": "stdout",
     "output_type": "stream",
     "text": [
      "[1] 81\n"
     ]
    },
    {
     "name": "stderr",
     "output_type": "stream",
     "text": [
      "Warning message in lohboot(pos[[k]], fun = \"pcf\", nsim = kolikLohu):\n",
      "\"confidence level 0.95 corresponds to a non-integer rank (97.5) so quantiles will be interpolated\"Warning message in lohboot(thom1[[k]], fun = \"pcf\", nsim = kolikLohu):\n",
      "\"confidence level 0.95 corresponds to a non-integer rank (97.5) so quantiles will be interpolated\"Warning message in lohboot(thom2[[k]], fun = \"pcf\", nsim = kolikLohu):\n",
      "\"confidence level 0.95 corresponds to a non-integer rank (97.5) so quantiles will be interpolated\"Warning message in lohboot(thom3[[k]], fun = \"pcf\", nsim = kolikLohu):\n",
      "\"confidence level 0.95 corresponds to a non-integer rank (97.5) so quantiles will be interpolated\"Warning message in lohboot(thom4[[k]], fun = \"pcf\", nsim = kolikLohu):\n",
      "\"confidence level 0.95 corresponds to a non-integer rank (97.5) so quantiles will be interpolated\""
     ]
    },
    {
     "name": "stdout",
     "output_type": "stream",
     "text": [
      "[1] 82\n"
     ]
    },
    {
     "name": "stderr",
     "output_type": "stream",
     "text": [
      "Warning message in lohboot(pos[[k]], fun = \"pcf\", nsim = kolikLohu):\n",
      "\"confidence level 0.95 corresponds to a non-integer rank (97.5) so quantiles will be interpolated\"Warning message in lohboot(thom1[[k]], fun = \"pcf\", nsim = kolikLohu):\n",
      "\"confidence level 0.95 corresponds to a non-integer rank (97.5) so quantiles will be interpolated\"Warning message in lohboot(thom2[[k]], fun = \"pcf\", nsim = kolikLohu):\n",
      "\"confidence level 0.95 corresponds to a non-integer rank (97.5) so quantiles will be interpolated\"Warning message in lohboot(thom3[[k]], fun = \"pcf\", nsim = kolikLohu):\n",
      "\"confidence level 0.95 corresponds to a non-integer rank (97.5) so quantiles will be interpolated\"Warning message in lohboot(thom4[[k]], fun = \"pcf\", nsim = kolikLohu):\n",
      "\"confidence level 0.95 corresponds to a non-integer rank (97.5) so quantiles will be interpolated\""
     ]
    },
    {
     "name": "stdout",
     "output_type": "stream",
     "text": [
      "[1] 83\n"
     ]
    },
    {
     "name": "stderr",
     "output_type": "stream",
     "text": [
      "Warning message in lohboot(pos[[k]], fun = \"pcf\", nsim = kolikLohu):\n",
      "\"confidence level 0.95 corresponds to a non-integer rank (97.5) so quantiles will be interpolated\"Warning message in lohboot(thom1[[k]], fun = \"pcf\", nsim = kolikLohu):\n",
      "\"confidence level 0.95 corresponds to a non-integer rank (97.5) so quantiles will be interpolated\"Warning message in lohboot(thom2[[k]], fun = \"pcf\", nsim = kolikLohu):\n",
      "\"confidence level 0.95 corresponds to a non-integer rank (97.5) so quantiles will be interpolated\"Warning message in lohboot(thom3[[k]], fun = \"pcf\", nsim = kolikLohu):\n",
      "\"confidence level 0.95 corresponds to a non-integer rank (97.5) so quantiles will be interpolated\"Warning message in lohboot(thom4[[k]], fun = \"pcf\", nsim = kolikLohu):\n",
      "\"confidence level 0.95 corresponds to a non-integer rank (97.5) so quantiles will be interpolated\""
     ]
    },
    {
     "name": "stdout",
     "output_type": "stream",
     "text": [
      "[1] 84\n"
     ]
    },
    {
     "name": "stderr",
     "output_type": "stream",
     "text": [
      "Warning message in lohboot(pos[[k]], fun = \"pcf\", nsim = kolikLohu):\n",
      "\"confidence level 0.95 corresponds to a non-integer rank (97.5) so quantiles will be interpolated\"Warning message in lohboot(thom1[[k]], fun = \"pcf\", nsim = kolikLohu):\n",
      "\"confidence level 0.95 corresponds to a non-integer rank (97.5) so quantiles will be interpolated\"Warning message in lohboot(thom2[[k]], fun = \"pcf\", nsim = kolikLohu):\n",
      "\"confidence level 0.95 corresponds to a non-integer rank (97.5) so quantiles will be interpolated\"Warning message in lohboot(thom3[[k]], fun = \"pcf\", nsim = kolikLohu):\n",
      "\"confidence level 0.95 corresponds to a non-integer rank (97.5) so quantiles will be interpolated\"Warning message in lohboot(thom4[[k]], fun = \"pcf\", nsim = kolikLohu):\n",
      "\"confidence level 0.95 corresponds to a non-integer rank (97.5) so quantiles will be interpolated\""
     ]
    },
    {
     "name": "stdout",
     "output_type": "stream",
     "text": [
      "[1] 85\n"
     ]
    },
    {
     "name": "stderr",
     "output_type": "stream",
     "text": [
      "Warning message in lohboot(pos[[k]], fun = \"pcf\", nsim = kolikLohu):\n",
      "\"confidence level 0.95 corresponds to a non-integer rank (97.5) so quantiles will be interpolated\"Warning message in lohboot(thom1[[k]], fun = \"pcf\", nsim = kolikLohu):\n",
      "\"confidence level 0.95 corresponds to a non-integer rank (97.5) so quantiles will be interpolated\"Warning message in lohboot(thom2[[k]], fun = \"pcf\", nsim = kolikLohu):\n",
      "\"confidence level 0.95 corresponds to a non-integer rank (97.5) so quantiles will be interpolated\"Warning message in lohboot(thom3[[k]], fun = \"pcf\", nsim = kolikLohu):\n",
      "\"confidence level 0.95 corresponds to a non-integer rank (97.5) so quantiles will be interpolated\"Warning message in lohboot(thom4[[k]], fun = \"pcf\", nsim = kolikLohu):\n",
      "\"confidence level 0.95 corresponds to a non-integer rank (97.5) so quantiles will be interpolated\""
     ]
    },
    {
     "name": "stdout",
     "output_type": "stream",
     "text": [
      "[1] 86\n"
     ]
    },
    {
     "name": "stderr",
     "output_type": "stream",
     "text": [
      "Warning message in lohboot(pos[[k]], fun = \"pcf\", nsim = kolikLohu):\n",
      "\"confidence level 0.95 corresponds to a non-integer rank (97.5) so quantiles will be interpolated\"Warning message in lohboot(thom1[[k]], fun = \"pcf\", nsim = kolikLohu):\n",
      "\"confidence level 0.95 corresponds to a non-integer rank (97.5) so quantiles will be interpolated\"Warning message in lohboot(thom2[[k]], fun = \"pcf\", nsim = kolikLohu):\n",
      "\"confidence level 0.95 corresponds to a non-integer rank (97.5) so quantiles will be interpolated\"Warning message in lohboot(thom3[[k]], fun = \"pcf\", nsim = kolikLohu):\n",
      "\"confidence level 0.95 corresponds to a non-integer rank (97.5) so quantiles will be interpolated\"Warning message in lohboot(thom4[[k]], fun = \"pcf\", nsim = kolikLohu):\n",
      "\"confidence level 0.95 corresponds to a non-integer rank (97.5) so quantiles will be interpolated\""
     ]
    },
    {
     "name": "stdout",
     "output_type": "stream",
     "text": [
      "[1] 87\n"
     ]
    },
    {
     "name": "stderr",
     "output_type": "stream",
     "text": [
      "Warning message in lohboot(pos[[k]], fun = \"pcf\", nsim = kolikLohu):\n",
      "\"confidence level 0.95 corresponds to a non-integer rank (97.5) so quantiles will be interpolated\"Warning message in lohboot(thom1[[k]], fun = \"pcf\", nsim = kolikLohu):\n",
      "\"confidence level 0.95 corresponds to a non-integer rank (97.5) so quantiles will be interpolated\"Warning message in lohboot(thom2[[k]], fun = \"pcf\", nsim = kolikLohu):\n",
      "\"confidence level 0.95 corresponds to a non-integer rank (97.5) so quantiles will be interpolated\"Warning message in lohboot(thom3[[k]], fun = \"pcf\", nsim = kolikLohu):\n",
      "\"confidence level 0.95 corresponds to a non-integer rank (97.5) so quantiles will be interpolated\"Warning message in lohboot(thom4[[k]], fun = \"pcf\", nsim = kolikLohu):\n",
      "\"confidence level 0.95 corresponds to a non-integer rank (97.5) so quantiles will be interpolated\""
     ]
    },
    {
     "name": "stdout",
     "output_type": "stream",
     "text": [
      "[1] 88\n"
     ]
    },
    {
     "name": "stderr",
     "output_type": "stream",
     "text": [
      "Warning message in lohboot(pos[[k]], fun = \"pcf\", nsim = kolikLohu):\n",
      "\"confidence level 0.95 corresponds to a non-integer rank (97.5) so quantiles will be interpolated\"Warning message in lohboot(thom1[[k]], fun = \"pcf\", nsim = kolikLohu):\n",
      "\"confidence level 0.95 corresponds to a non-integer rank (97.5) so quantiles will be interpolated\"Warning message in lohboot(thom2[[k]], fun = \"pcf\", nsim = kolikLohu):\n",
      "\"confidence level 0.95 corresponds to a non-integer rank (97.5) so quantiles will be interpolated\"Warning message in lohboot(thom3[[k]], fun = \"pcf\", nsim = kolikLohu):\n",
      "\"confidence level 0.95 corresponds to a non-integer rank (97.5) so quantiles will be interpolated\"Warning message in lohboot(thom4[[k]], fun = \"pcf\", nsim = kolikLohu):\n",
      "\"confidence level 0.95 corresponds to a non-integer rank (97.5) so quantiles will be interpolated\""
     ]
    },
    {
     "name": "stdout",
     "output_type": "stream",
     "text": [
      "[1] 89\n"
     ]
    },
    {
     "name": "stderr",
     "output_type": "stream",
     "text": [
      "Warning message in lohboot(pos[[k]], fun = \"pcf\", nsim = kolikLohu):\n",
      "\"confidence level 0.95 corresponds to a non-integer rank (97.5) so quantiles will be interpolated\"Warning message in lohboot(thom1[[k]], fun = \"pcf\", nsim = kolikLohu):\n",
      "\"confidence level 0.95 corresponds to a non-integer rank (97.5) so quantiles will be interpolated\"Warning message in lohboot(thom2[[k]], fun = \"pcf\", nsim = kolikLohu):\n",
      "\"confidence level 0.95 corresponds to a non-integer rank (97.5) so quantiles will be interpolated\"Warning message in lohboot(thom3[[k]], fun = \"pcf\", nsim = kolikLohu):\n",
      "\"confidence level 0.95 corresponds to a non-integer rank (97.5) so quantiles will be interpolated\"Warning message in lohboot(thom4[[k]], fun = \"pcf\", nsim = kolikLohu):\n",
      "\"confidence level 0.95 corresponds to a non-integer rank (97.5) so quantiles will be interpolated\""
     ]
    },
    {
     "name": "stdout",
     "output_type": "stream",
     "text": [
      "[1] 90\n"
     ]
    },
    {
     "name": "stderr",
     "output_type": "stream",
     "text": [
      "Warning message in lohboot(pos[[k]], fun = \"pcf\", nsim = kolikLohu):\n",
      "\"confidence level 0.95 corresponds to a non-integer rank (97.5) so quantiles will be interpolated\"Warning message in lohboot(thom1[[k]], fun = \"pcf\", nsim = kolikLohu):\n",
      "\"confidence level 0.95 corresponds to a non-integer rank (97.5) so quantiles will be interpolated\"Warning message in lohboot(thom2[[k]], fun = \"pcf\", nsim = kolikLohu):\n",
      "\"confidence level 0.95 corresponds to a non-integer rank (97.5) so quantiles will be interpolated\"Warning message in lohboot(thom3[[k]], fun = \"pcf\", nsim = kolikLohu):\n",
      "\"confidence level 0.95 corresponds to a non-integer rank (97.5) so quantiles will be interpolated\"Warning message in lohboot(thom4[[k]], fun = \"pcf\", nsim = kolikLohu):\n",
      "\"confidence level 0.95 corresponds to a non-integer rank (97.5) so quantiles will be interpolated\""
     ]
    },
    {
     "name": "stdout",
     "output_type": "stream",
     "text": [
      "[1] 91\n"
     ]
    },
    {
     "name": "stderr",
     "output_type": "stream",
     "text": [
      "Warning message in lohboot(pos[[k]], fun = \"pcf\", nsim = kolikLohu):\n",
      "\"confidence level 0.95 corresponds to a non-integer rank (97.5) so quantiles will be interpolated\"Warning message in lohboot(thom1[[k]], fun = \"pcf\", nsim = kolikLohu):\n",
      "\"confidence level 0.95 corresponds to a non-integer rank (97.5) so quantiles will be interpolated\"Warning message in lohboot(thom2[[k]], fun = \"pcf\", nsim = kolikLohu):\n",
      "\"confidence level 0.95 corresponds to a non-integer rank (97.5) so quantiles will be interpolated\"Warning message in lohboot(thom3[[k]], fun = \"pcf\", nsim = kolikLohu):\n",
      "\"confidence level 0.95 corresponds to a non-integer rank (97.5) so quantiles will be interpolated\"Warning message in lohboot(thom4[[k]], fun = \"pcf\", nsim = kolikLohu):\n",
      "\"confidence level 0.95 corresponds to a non-integer rank (97.5) so quantiles will be interpolated\""
     ]
    },
    {
     "name": "stdout",
     "output_type": "stream",
     "text": [
      "[1] 92\n"
     ]
    },
    {
     "name": "stderr",
     "output_type": "stream",
     "text": [
      "Warning message in lohboot(pos[[k]], fun = \"pcf\", nsim = kolikLohu):\n",
      "\"confidence level 0.95 corresponds to a non-integer rank (97.5) so quantiles will be interpolated\"Warning message in lohboot(thom1[[k]], fun = \"pcf\", nsim = kolikLohu):\n",
      "\"confidence level 0.95 corresponds to a non-integer rank (97.5) so quantiles will be interpolated\"Warning message in lohboot(thom2[[k]], fun = \"pcf\", nsim = kolikLohu):\n",
      "\"confidence level 0.95 corresponds to a non-integer rank (97.5) so quantiles will be interpolated\"Warning message in lohboot(thom3[[k]], fun = \"pcf\", nsim = kolikLohu):\n",
      "\"confidence level 0.95 corresponds to a non-integer rank (97.5) so quantiles will be interpolated\"Warning message in lohboot(thom4[[k]], fun = \"pcf\", nsim = kolikLohu):\n",
      "\"confidence level 0.95 corresponds to a non-integer rank (97.5) so quantiles will be interpolated\""
     ]
    },
    {
     "name": "stdout",
     "output_type": "stream",
     "text": [
      "[1] 93\n"
     ]
    },
    {
     "name": "stderr",
     "output_type": "stream",
     "text": [
      "Warning message in lohboot(pos[[k]], fun = \"pcf\", nsim = kolikLohu):\n",
      "\"confidence level 0.95 corresponds to a non-integer rank (97.5) so quantiles will be interpolated\"Warning message in lohboot(thom1[[k]], fun = \"pcf\", nsim = kolikLohu):\n",
      "\"confidence level 0.95 corresponds to a non-integer rank (97.5) so quantiles will be interpolated\"Warning message in lohboot(thom2[[k]], fun = \"pcf\", nsim = kolikLohu):\n",
      "\"confidence level 0.95 corresponds to a non-integer rank (97.5) so quantiles will be interpolated\"Warning message in lohboot(thom3[[k]], fun = \"pcf\", nsim = kolikLohu):\n",
      "\"confidence level 0.95 corresponds to a non-integer rank (97.5) so quantiles will be interpolated\"Warning message in lohboot(thom4[[k]], fun = \"pcf\", nsim = kolikLohu):\n",
      "\"confidence level 0.95 corresponds to a non-integer rank (97.5) so quantiles will be interpolated\""
     ]
    },
    {
     "name": "stdout",
     "output_type": "stream",
     "text": [
      "[1] 94\n"
     ]
    },
    {
     "name": "stderr",
     "output_type": "stream",
     "text": [
      "Warning message in lohboot(pos[[k]], fun = \"pcf\", nsim = kolikLohu):\n",
      "\"confidence level 0.95 corresponds to a non-integer rank (97.5) so quantiles will be interpolated\"Warning message in lohboot(thom1[[k]], fun = \"pcf\", nsim = kolikLohu):\n",
      "\"confidence level 0.95 corresponds to a non-integer rank (97.5) so quantiles will be interpolated\"Warning message in lohboot(thom2[[k]], fun = \"pcf\", nsim = kolikLohu):\n",
      "\"confidence level 0.95 corresponds to a non-integer rank (97.5) so quantiles will be interpolated\"Warning message in lohboot(thom3[[k]], fun = \"pcf\", nsim = kolikLohu):\n",
      "\"confidence level 0.95 corresponds to a non-integer rank (97.5) so quantiles will be interpolated\"Warning message in lohboot(thom4[[k]], fun = \"pcf\", nsim = kolikLohu):\n",
      "\"confidence level 0.95 corresponds to a non-integer rank (97.5) so quantiles will be interpolated\""
     ]
    },
    {
     "name": "stdout",
     "output_type": "stream",
     "text": [
      "[1] 95\n"
     ]
    },
    {
     "name": "stderr",
     "output_type": "stream",
     "text": [
      "Warning message in lohboot(pos[[k]], fun = \"pcf\", nsim = kolikLohu):\n",
      "\"confidence level 0.95 corresponds to a non-integer rank (97.5) so quantiles will be interpolated\"Warning message in lohboot(thom1[[k]], fun = \"pcf\", nsim = kolikLohu):\n",
      "\"confidence level 0.95 corresponds to a non-integer rank (97.5) so quantiles will be interpolated\"Warning message in lohboot(thom2[[k]], fun = \"pcf\", nsim = kolikLohu):\n",
      "\"confidence level 0.95 corresponds to a non-integer rank (97.5) so quantiles will be interpolated\"Warning message in lohboot(thom3[[k]], fun = \"pcf\", nsim = kolikLohu):\n",
      "\"confidence level 0.95 corresponds to a non-integer rank (97.5) so quantiles will be interpolated\"Warning message in lohboot(thom4[[k]], fun = \"pcf\", nsim = kolikLohu):\n",
      "\"confidence level 0.95 corresponds to a non-integer rank (97.5) so quantiles will be interpolated\""
     ]
    },
    {
     "name": "stdout",
     "output_type": "stream",
     "text": [
      "[1] 96\n"
     ]
    },
    {
     "name": "stderr",
     "output_type": "stream",
     "text": [
      "Warning message in lohboot(pos[[k]], fun = \"pcf\", nsim = kolikLohu):\n",
      "\"confidence level 0.95 corresponds to a non-integer rank (97.5) so quantiles will be interpolated\"Warning message in lohboot(thom1[[k]], fun = \"pcf\", nsim = kolikLohu):\n",
      "\"confidence level 0.95 corresponds to a non-integer rank (97.5) so quantiles will be interpolated\"Warning message in lohboot(thom2[[k]], fun = \"pcf\", nsim = kolikLohu):\n",
      "\"confidence level 0.95 corresponds to a non-integer rank (97.5) so quantiles will be interpolated\"Warning message in lohboot(thom3[[k]], fun = \"pcf\", nsim = kolikLohu):\n",
      "\"confidence level 0.95 corresponds to a non-integer rank (97.5) so quantiles will be interpolated\"Warning message in lohboot(thom4[[k]], fun = \"pcf\", nsim = kolikLohu):\n",
      "\"confidence level 0.95 corresponds to a non-integer rank (97.5) so quantiles will be interpolated\""
     ]
    },
    {
     "name": "stdout",
     "output_type": "stream",
     "text": [
      "[1] 97\n"
     ]
    },
    {
     "name": "stderr",
     "output_type": "stream",
     "text": [
      "Warning message in lohboot(pos[[k]], fun = \"pcf\", nsim = kolikLohu):\n",
      "\"confidence level 0.95 corresponds to a non-integer rank (97.5) so quantiles will be interpolated\"Warning message in lohboot(thom1[[k]], fun = \"pcf\", nsim = kolikLohu):\n",
      "\"confidence level 0.95 corresponds to a non-integer rank (97.5) so quantiles will be interpolated\"Warning message in lohboot(thom2[[k]], fun = \"pcf\", nsim = kolikLohu):\n",
      "\"confidence level 0.95 corresponds to a non-integer rank (97.5) so quantiles will be interpolated\"Warning message in lohboot(thom3[[k]], fun = \"pcf\", nsim = kolikLohu):\n",
      "\"confidence level 0.95 corresponds to a non-integer rank (97.5) so quantiles will be interpolated\"Warning message in lohboot(thom4[[k]], fun = \"pcf\", nsim = kolikLohu):\n",
      "\"confidence level 0.95 corresponds to a non-integer rank (97.5) so quantiles will be interpolated\""
     ]
    },
    {
     "name": "stdout",
     "output_type": "stream",
     "text": [
      "[1] 98\n"
     ]
    },
    {
     "name": "stderr",
     "output_type": "stream",
     "text": [
      "Warning message in lohboot(pos[[k]], fun = \"pcf\", nsim = kolikLohu):\n",
      "\"confidence level 0.95 corresponds to a non-integer rank (97.5) so quantiles will be interpolated\"Warning message in lohboot(thom1[[k]], fun = \"pcf\", nsim = kolikLohu):\n",
      "\"confidence level 0.95 corresponds to a non-integer rank (97.5) so quantiles will be interpolated\"Warning message in lohboot(thom2[[k]], fun = \"pcf\", nsim = kolikLohu):\n",
      "\"confidence level 0.95 corresponds to a non-integer rank (97.5) so quantiles will be interpolated\"Warning message in lohboot(thom3[[k]], fun = \"pcf\", nsim = kolikLohu):\n",
      "\"confidence level 0.95 corresponds to a non-integer rank (97.5) so quantiles will be interpolated\"Warning message in lohboot(thom4[[k]], fun = \"pcf\", nsim = kolikLohu):\n",
      "\"confidence level 0.95 corresponds to a non-integer rank (97.5) so quantiles will be interpolated\""
     ]
    },
    {
     "name": "stdout",
     "output_type": "stream",
     "text": [
      "[1] 99\n"
     ]
    },
    {
     "name": "stderr",
     "output_type": "stream",
     "text": [
      "Warning message in lohboot(pos[[k]], fun = \"pcf\", nsim = kolikLohu):\n",
      "\"confidence level 0.95 corresponds to a non-integer rank (97.5) so quantiles will be interpolated\"Warning message in lohboot(thom1[[k]], fun = \"pcf\", nsim = kolikLohu):\n",
      "\"confidence level 0.95 corresponds to a non-integer rank (97.5) so quantiles will be interpolated\"Warning message in lohboot(thom2[[k]], fun = \"pcf\", nsim = kolikLohu):\n",
      "\"confidence level 0.95 corresponds to a non-integer rank (97.5) so quantiles will be interpolated\"Warning message in lohboot(thom3[[k]], fun = \"pcf\", nsim = kolikLohu):\n",
      "\"confidence level 0.95 corresponds to a non-integer rank (97.5) so quantiles will be interpolated\"Warning message in lohboot(thom4[[k]], fun = \"pcf\", nsim = kolikLohu):\n",
      "\"confidence level 0.95 corresponds to a non-integer rank (97.5) so quantiles will be interpolated\""
     ]
    },
    {
     "name": "stdout",
     "output_type": "stream",
     "text": [
      "[1] 100\n"
     ]
    }
   ],
   "source": [
    "# Realizations of processes\n",
    "\n",
    "set.seed(8128)\n",
    "\n",
    "kolikProcesu = 100\n",
    "kolikLohu = 100\n",
    "\n",
    "\n",
    "pos = rpoispp(lambda = pLambda, nsim = kolikProcesu)\n",
    "thom1 = rThomas(kappa = KP2, mu = MU1, scale = SGM2, nsim = kolikProcesu)\n",
    "thom2 = rThomas(kappa = KP1, mu = MU2, scale = SGM2, nsim = kolikProcesu)\n",
    "thom3 = rThomas(kappa = KP2, mu = MU1, scale = SGM1, nsim = kolikProcesu)\n",
    "thom4 = rThomas(kappa = KP1, mu = MU2, scale = SGM1, nsim = kolikProcesu)\n",
    "\n",
    "# Declaring variables for storage of local lohboot outputs\n",
    "posLohLoc = list(1:kolikProcesu)\n",
    "thom1LohLoc = list(1:kolikProcesu)\n",
    "thom2LohLoc = list(1:kolikProcesu)\n",
    "thom3LohLoc = list(1:kolikProcesu)\n",
    "thom4LohLoc = list(1:kolikProcesu)\n",
    "\n",
    "# Declaring variables for storage of global lohboot outputs\n",
    "posLohGlob = list(1:kolikProcesu)\n",
    "thom1LohGlob = list(1:kolikProcesu)\n",
    "thom2LohGlob = list(1:kolikProcesu)\n",
    "thom3LohGlob = list(1:kolikProcesu)\n",
    "thom4LohGlob = list(1:kolikProcesu)\n",
    "\n",
    "\n",
    "# Loh's marked bootstrap\n",
    "set.seed(8128)\n",
    "for (k in 1:kolikProcesu){\n",
    "  posLohLoc[[k]] = lohboot(pos[[k]],fun = 'pcf', nsim = kolikLohu)\n",
    "  posLohGlob[[k]] = lohboot(pos[[k]],fun = 'pcf', nsim = kolikLohu, global = TRUE)\n",
    "  thom1LohLoc[[k]] = lohboot(thom1[[k]],fun = 'pcf', nsim = kolikLohu)\n",
    "  thom1LohGlob[[k]] = lohboot(thom1[[k]],fun = 'pcf', nsim = kolikLohu, global = TRUE)\n",
    "  thom2LohLoc[[k]] = lohboot(thom2[[k]],fun = 'pcf', nsim = kolikLohu)\n",
    "  thom2LohGlob[[k]] = lohboot(thom2[[k]],fun = 'pcf', nsim = kolikLohu, global = TRUE)\n",
    "  thom3LohLoc[[k]] = lohboot(thom3[[k]],fun = 'pcf', nsim = kolikLohu)\n",
    "  thom3LohGlob[[k]] = lohboot(thom3[[k]],fun = 'pcf', nsim = kolikLohu, global = TRUE)\n",
    "  thom4LohLoc[[k]] = lohboot(thom4[[k]],fun = 'pcf', nsim = kolikLohu)\n",
    "  thom4LohGlob[[k]] = lohboot(thom4[[k]],fun = 'pcf', nsim = kolikLohu, global = TRUE)\n",
    "  print(k) # for checking the status and speed of for cycle\n",
    "}"
   ]
  },
  {
   "cell_type": "markdown",
   "metadata": {},
   "source": [
    "For each model and the type of CI estimate (global and pointwise) we compute the percentage of CI containg the true theoretical value of pair correlation function (for $r$ which the algorithm computes by default)."
   ]
  },
  {
   "cell_type": "code",
   "execution_count": 81,
   "metadata": {},
   "outputs": [],
   "source": [
    "# Computing percantage of CI, which contain the theoretical value of simulated process\n",
    "posPercInLoc = rep(0,kolikProcesu)\n",
    "posPercInGlob = rep(0,kolikProcesu)\n",
    "thom1PercInLoc = rep(0,kolikProcesu)\n",
    "thom1PercInGlob = rep(0,kolikProcesu)\n",
    "thom2PercInLoc = rep(0,kolikProcesu)\n",
    "thom2PercInGlob = rep(0,kolikProcesu)\n",
    "thom3PercInLoc = rep(0,kolikProcesu)\n",
    "thom3PercInGlob = rep(0,kolikProcesu)\n",
    "thom4PercInLoc = rep(0,kolikProcesu)\n",
    "thom4PercInGlob = rep(0,kolikProcesu)\n",
    "\n",
    "erka = thom1LohGlob[[1]]$r\n",
    "thom1Erka = c(thom1Pcf(erka))\n",
    "thom2Erka = c(thom2Pcf(erka))\n",
    "thom3Erka = c(thom3Pcf(erka))\n",
    "thom4Erka = c(thom4Pcf(erka))\n",
    "\n",
    "\n",
    "for (k in 1:kolikProcesu){\n",
    "    posPercInGlob[k] = 1 - sum(posLohGlob[[k]]$lo > 1 | posLohGlob[[k]]$hi < 1) / length(posLohGlob[[k]]$r)\n",
    "    posPercInLoc[k] = 1 - sum(posLohLoc[[k]]$lo > 1 | posLohLoc[[k]]$hi < 1) / length(posLohLoc[[k]]$r)\n",
    "    thom1PercInGlob[k] = 1 - sum(thom1LohGlob[[k]]$lo > thom1Erka | thom1LohGlob[[k]]$hi < thom1Erka) / length(thom1LohGlob[[k]]$r)\n",
    "    thom1PercInLoc[k] = 1 - sum(thom1LohLoc[[k]]$lo > thom1Erka | thom1LohLoc[[k]]$hi < thom1Erka) / length(thom1LohLoc[[k]]$r)\n",
    "    thom2PercInGlob[k] = 1 - sum(thom2LohGlob[[k]]$lo > thom2Erka | thom2LohGlob[[k]]$hi < thom2Erka) / length(thom2LohGlob[[k]]$r)\n",
    "    thom2PercInLoc[k] = 1 - sum(thom2LohLoc[[k]]$lo > thom2Erka | thom2LohLoc[[k]]$hi < thom2Erka) / length(thom2LohLoc[[k]]$r)\n",
    "    thom3PercInGlob[k] = 1 - sum(thom3LohGlob[[k]]$lo > thom3Erka | thom3LohGlob[[k]]$hi < thom3Erka) / length(thom3LohGlob[[k]]$r)\n",
    "    thom3PercInLoc[k] = 1 - sum(thom3LohLoc[[k]]$lo > thom3Erka | thom3LohLoc[[k]]$hi < thom3Erka) / length(thom3LohLoc[[k]]$r)\n",
    "    thom4PercInGlob[k] = 1 - sum(thom4LohGlob[[k]]$lo > thom4Erka | thom4LohGlob[[k]]$hi < thom4Erka) / length(thom4LohGlob[[k]]$r)\n",
    "    thom4PercInLoc[k] = 1 - sum(thom4LohLoc[[k]]$lo > thom4Erka | thom4LohLoc[[k]]$hi < thom4Erka) / length(thom4LohLoc[[k]]$r)\n",
    "}\n",
    "\n"
   ]
  },
  {
   "cell_type": "code",
   "execution_count": 82,
   "metadata": {},
   "outputs": [],
   "source": [
    "percPerProcess = cbind(posPercInGlob,\n",
    "posPercInLoc,\n",
    "thom1PercInGlob,\n",
    "thom1PercInLoc,\n",
    "thom2PercInGlob,\n",
    "thom2PercInLoc,\n",
    "thom3PercInGlob,\n",
    "thom3PercInLoc,\n",
    "thom4PercInGlob,\n",
    "thom4PercInLoc)\n",
    "colnames(percPerProcess) = c('PPP Global', 'PPP Pointwise', 'Thomas I Global', \n",
    "                             'Thomas I Pointwise', 'Thomas II Global', 'Thomas II Pointwise','Thomas III Global', \n",
    "                             'Thomas III Pointwise', 'Thomas IV Global', 'Thomas IV Pointwise')\n",
    "rownames(percPerProcess) = c(1:100)"
   ]
  },
  {
   "cell_type": "code",
   "execution_count": 83,
   "metadata": {},
   "outputs": [],
   "source": [
    "write.csv(percPerProcess, 'percPerProcess.csv')"
   ]
  },
  {
   "cell_type": "code",
   "execution_count": 3,
   "metadata": {},
   "outputs": [],
   "source": [
    "# vysl = read.csv('vysl.csv', sep = \",\", header = TRUE)"
   ]
  },
  {
   "cell_type": "markdown",
   "metadata": {},
   "source": [
    "Bellow we can see that global estimates contain much larger percentage than pointwise estimates (which makes sense since they are constructed much wider). We can also see that the pointwise estimates don't cover much of the pair correlation funciton for neither of the model."
   ]
  },
  {
   "cell_type": "code",
   "execution_count": 84,
   "metadata": {
    "scrolled": false
   },
   "outputs": [
    {
     "data": {
      "text/html": [
       "<table>\n",
       "<thead><tr><th scope=col>PPP Global</th><th scope=col>PPP Pointwise</th><th scope=col>Thomas I Global</th><th scope=col>Thomas I Pointwise</th><th scope=col>Thomas II Global</th><th scope=col>Thomas II Pointwise</th><th scope=col>Thomas III Global</th><th scope=col>Thomas III Pointwise</th><th scope=col>Thomas IV Global</th><th scope=col>Thomas IV Pointwise</th></tr></thead>\n",
       "<tbody>\n",
       "\t<tr><td>0.9941406 </td><td>0.7128906 </td><td>0.7792969 </td><td>0.16015625</td><td>0.9804688 </td><td>0.34179688</td><td>0.9492188 </td><td>0.1074219 </td><td>0.9921875 </td><td>0.1835938 </td></tr>\n",
       "\t<tr><td>0.9902344 </td><td>0.6562500 </td><td>0.9882812 </td><td>0.32421875</td><td>0.8437500 </td><td>0.09570312</td><td>0.9453125 </td><td>0.2363281 </td><td>0.9218750 </td><td>0.2324219 </td></tr>\n",
       "\t<tr><td>0.9941406 </td><td>0.7148438 </td><td>0.9921875 </td><td>0.08984375</td><td>0.9941406 </td><td>0.17187500</td><td>0.9570312 </td><td>0.1894531 </td><td>0.9492188 </td><td>0.1796875 </td></tr>\n",
       "\t<tr><td>0.9921875 </td><td>0.6601562 </td><td>0.9863281 </td><td>0.10742188</td><td>0.8750000 </td><td>0.25195312</td><td>0.9589844 </td><td>0.2304688 </td><td>0.9394531 </td><td>0.1933594 </td></tr>\n",
       "\t<tr><td>0.9941406 </td><td>0.6406250 </td><td>0.9941406 </td><td>0.45312500</td><td>0.7031250 </td><td>0.03515625</td><td>0.9375000 </td><td>0.1484375 </td><td>0.9511719 </td><td>0.0703125 </td></tr>\n",
       "\t<tr><td>0.9941406 </td><td>0.7011719 </td><td>0.9921875 </td><td>0.34960938</td><td>0.9941406 </td><td>0.18164062</td><td>0.9921875 </td><td>0.0781250 </td><td>0.8925781 </td><td>0.1660156 </td></tr>\n",
       "</tbody>\n",
       "</table>\n"
      ],
      "text/latex": [
       "\\begin{tabular}{r|llllllllll}\n",
       " PPP Global & PPP Pointwise & Thomas I Global & Thomas I Pointwise & Thomas II Global & Thomas II Pointwise & Thomas III Global & Thomas III Pointwise & Thomas IV Global & Thomas IV Pointwise\\\\\n",
       "\\hline\n",
       "\t 0.9941406  & 0.7128906  & 0.7792969  & 0.16015625 & 0.9804688  & 0.34179688 & 0.9492188  & 0.1074219  & 0.9921875  & 0.1835938 \\\\\n",
       "\t 0.9902344  & 0.6562500  & 0.9882812  & 0.32421875 & 0.8437500  & 0.09570312 & 0.9453125  & 0.2363281  & 0.9218750  & 0.2324219 \\\\\n",
       "\t 0.9941406  & 0.7148438  & 0.9921875  & 0.08984375 & 0.9941406  & 0.17187500 & 0.9570312  & 0.1894531  & 0.9492188  & 0.1796875 \\\\\n",
       "\t 0.9921875  & 0.6601562  & 0.9863281  & 0.10742188 & 0.8750000  & 0.25195312 & 0.9589844  & 0.2304688  & 0.9394531  & 0.1933594 \\\\\n",
       "\t 0.9941406  & 0.6406250  & 0.9941406  & 0.45312500 & 0.7031250  & 0.03515625 & 0.9375000  & 0.1484375  & 0.9511719  & 0.0703125 \\\\\n",
       "\t 0.9941406  & 0.7011719  & 0.9921875  & 0.34960938 & 0.9941406  & 0.18164062 & 0.9921875  & 0.0781250  & 0.8925781  & 0.1660156 \\\\\n",
       "\\end{tabular}\n"
      ],
      "text/markdown": [
       "\n",
       "| PPP Global | PPP Pointwise | Thomas I Global | Thomas I Pointwise | Thomas II Global | Thomas II Pointwise | Thomas III Global | Thomas III Pointwise | Thomas IV Global | Thomas IV Pointwise |\n",
       "|---|---|---|---|---|---|---|---|---|---|\n",
       "| 0.9941406  | 0.7128906  | 0.7792969  | 0.16015625 | 0.9804688  | 0.34179688 | 0.9492188  | 0.1074219  | 0.9921875  | 0.1835938  |\n",
       "| 0.9902344  | 0.6562500  | 0.9882812  | 0.32421875 | 0.8437500  | 0.09570312 | 0.9453125  | 0.2363281  | 0.9218750  | 0.2324219  |\n",
       "| 0.9941406  | 0.7148438  | 0.9921875  | 0.08984375 | 0.9941406  | 0.17187500 | 0.9570312  | 0.1894531  | 0.9492188  | 0.1796875  |\n",
       "| 0.9921875  | 0.6601562  | 0.9863281  | 0.10742188 | 0.8750000  | 0.25195312 | 0.9589844  | 0.2304688  | 0.9394531  | 0.1933594  |\n",
       "| 0.9941406  | 0.6406250  | 0.9941406  | 0.45312500 | 0.7031250  | 0.03515625 | 0.9375000  | 0.1484375  | 0.9511719  | 0.0703125  |\n",
       "| 0.9941406  | 0.7011719  | 0.9921875  | 0.34960938 | 0.9941406  | 0.18164062 | 0.9921875  | 0.0781250  | 0.8925781  | 0.1660156  |\n",
       "\n"
      ],
      "text/plain": [
       "  PPP Global PPP Pointwise Thomas I Global Thomas I Pointwise Thomas II Global\n",
       "1 0.9941406  0.7128906     0.7792969       0.16015625         0.9804688       \n",
       "2 0.9902344  0.6562500     0.9882812       0.32421875         0.8437500       \n",
       "3 0.9941406  0.7148438     0.9921875       0.08984375         0.9941406       \n",
       "4 0.9921875  0.6601562     0.9863281       0.10742188         0.8750000       \n",
       "5 0.9941406  0.6406250     0.9941406       0.45312500         0.7031250       \n",
       "6 0.9941406  0.7011719     0.9921875       0.34960938         0.9941406       \n",
       "  Thomas II Pointwise Thomas III Global Thomas III Pointwise Thomas IV Global\n",
       "1 0.34179688          0.9492188         0.1074219            0.9921875       \n",
       "2 0.09570312          0.9453125         0.2363281            0.9218750       \n",
       "3 0.17187500          0.9570312         0.1894531            0.9492188       \n",
       "4 0.25195312          0.9589844         0.2304688            0.9394531       \n",
       "5 0.03515625          0.9375000         0.1484375            0.9511719       \n",
       "6 0.18164062          0.9921875         0.0781250            0.8925781       \n",
       "  Thomas IV Pointwise\n",
       "1 0.1835938          \n",
       "2 0.2324219          \n",
       "3 0.1796875          \n",
       "4 0.1933594          \n",
       "5 0.0703125          \n",
       "6 0.1660156          "
      ]
     },
     "metadata": {},
     "output_type": "display_data"
    }
   ],
   "source": [
    "head(percPerProcess)"
   ]
  },
  {
   "cell_type": "code",
   "execution_count": 85,
   "metadata": {
    "scrolled": true
   },
   "outputs": [
    {
     "data": {
      "text/html": [
       "<dl class=dl-horizontal>\n",
       "\t<dt>PPP Global</dt>\n",
       "\t\t<dd>0.9939453125</dd>\n",
       "\t<dt>PPP Pointwise</dt>\n",
       "\t\t<dd>0.67375</dd>\n",
       "\t<dt>Thomas I Global</dt>\n",
       "\t\t<dd>0.9709375</dd>\n",
       "\t<dt>Thomas I Pointwise</dt>\n",
       "\t\t<dd>0.21921875</dd>\n",
       "\t<dt>Thomas II Global</dt>\n",
       "\t\t<dd>0.92349609375</dd>\n",
       "\t<dt>Thomas II Pointwise</dt>\n",
       "\t\t<dd>0.17572265625</dd>\n",
       "\t<dt>Thomas III Global</dt>\n",
       "\t\t<dd>0.97431640625</dd>\n",
       "\t<dt>Thomas III Pointwise</dt>\n",
       "\t\t<dd>0.216171875</dd>\n",
       "\t<dt>Thomas IV Global</dt>\n",
       "\t\t<dd>0.9595703125</dd>\n",
       "\t<dt>Thomas IV Pointwise</dt>\n",
       "\t\t<dd>0.1730859375</dd>\n",
       "</dl>\n"
      ],
      "text/latex": [
       "\\begin{description*}\n",
       "\\item[PPP Global] 0.9939453125\n",
       "\\item[PPP Pointwise] 0.67375\n",
       "\\item[Thomas I Global] 0.9709375\n",
       "\\item[Thomas I Pointwise] 0.21921875\n",
       "\\item[Thomas II Global] 0.92349609375\n",
       "\\item[Thomas II Pointwise] 0.17572265625\n",
       "\\item[Thomas III Global] 0.97431640625\n",
       "\\item[Thomas III Pointwise] 0.216171875\n",
       "\\item[Thomas IV Global] 0.9595703125\n",
       "\\item[Thomas IV Pointwise] 0.1730859375\n",
       "\\end{description*}\n"
      ],
      "text/markdown": [
       "PPP Global\n",
       ":   0.9939453125PPP Pointwise\n",
       ":   0.67375Thomas I Global\n",
       ":   0.9709375Thomas I Pointwise\n",
       ":   0.21921875Thomas II Global\n",
       ":   0.92349609375Thomas II Pointwise\n",
       ":   0.17572265625Thomas III Global\n",
       ":   0.97431640625Thomas III Pointwise\n",
       ":   0.216171875Thomas IV Global\n",
       ":   0.9595703125Thomas IV Pointwise\n",
       ":   0.1730859375\n",
       "\n"
      ],
      "text/plain": [
       "          PPP Global        PPP Pointwise      Thomas I Global \n",
       "           0.9939453            0.6737500            0.9709375 \n",
       "  Thomas I Pointwise     Thomas II Global  Thomas II Pointwise \n",
       "           0.2192187            0.9234961            0.1757227 \n",
       "   Thomas III Global Thomas III Pointwise     Thomas IV Global \n",
       "           0.9743164            0.2161719            0.9595703 \n",
       " Thomas IV Pointwise \n",
       "           0.1730859 "
      ]
     },
     "metadata": {},
     "output_type": "display_data"
    }
   ],
   "source": [
    "colMeans(percPerProcess)"
   ]
  },
  {
   "cell_type": "markdown",
   "metadata": {},
   "source": [
    "The computations above were based on percentage of points $r$ of each function being contained in CI for this value $r$. Now we take some fixed values $r$ and compute the percentage of functions which were at that $r$ contained in CI.\n",
    "\n",
    "We chose the values of $0.05, 0.1, 0.15$ and $0.2$ or more specifically we chose the closest numbers to these which were offered by algorithm."
   ]
  },
  {
   "cell_type": "code",
   "execution_count": 105,
   "metadata": {},
   "outputs": [
    {
     "data": {
      "text/html": [
       "0.0499021526418787"
      ],
      "text/latex": [
       "0.0499021526418787"
      ],
      "text/markdown": [
       "0.0499021526418787"
      ],
      "text/plain": [
       "[1] 0.04990215"
      ]
     },
     "metadata": {},
     "output_type": "display_data"
    },
    {
     "data": {
      "text/html": [
       "0.0998043052837573"
      ],
      "text/latex": [
       "0.0998043052837573"
      ],
      "text/markdown": [
       "0.0998043052837573"
      ],
      "text/plain": [
       "[1] 0.09980431"
      ]
     },
     "metadata": {},
     "output_type": "display_data"
    },
    {
     "data": {
      "text/html": [
       "0.150195694716243"
      ],
      "text/latex": [
       "0.150195694716243"
      ],
      "text/markdown": [
       "0.150195694716243"
      ],
      "text/plain": [
       "[1] 0.1501957"
      ]
     },
     "metadata": {},
     "output_type": "display_data"
    },
    {
     "data": {
      "text/html": [
       "0.200097847358121"
      ],
      "text/latex": [
       "0.200097847358121"
      ],
      "text/markdown": [
       "0.200097847358121"
      ],
      "text/plain": [
       "[1] 0.2000978"
      ]
     },
     "metadata": {},
     "output_type": "display_data"
    }
   ],
   "source": [
    "erka[103]\n",
    "erka[205]\n",
    "erka[308]\n",
    "erka[410]"
   ]
  },
  {
   "cell_type": "code",
   "execution_count": 136,
   "metadata": {},
   "outputs": [],
   "source": [
    "posPercGlobR = rep(0,4)\n",
    "posPercLocR = rep(0,4)\n",
    "thom1PercGlobR = rep(0,4)\n",
    "thom1PercLocR = rep(0,4)\n",
    "thom2PercGlobR = rep(0,4)\n",
    "thom2PercLocR = rep(0,4)\n",
    "thom3PercGlobR = rep(0,4)\n",
    "thom3PercLocR = rep(0,4)\n",
    "thom4PercGlobR = rep(0,4)\n",
    "thom4PercLocR = rep(0,4)\n",
    "for (k in 1:kolikProcesu){\n",
    "    if (posLohGlob[[k]]$lo[103] < 1 & posLohGlob[[k]]$hi[103] > 1){\n",
    "        posPercGlobR[1] = posPercGlobR[1] + 1 / kolikProcesu    \n",
    "    }\n",
    "    if (posLohGlob[[k]]$lo[205] < 1 & posLohGlob[[k]]$hi[205] > 1){\n",
    "        posPercGlobR[2] = posPercGlobR[2] + 1 / kolikProcesu    \n",
    "    }\n",
    "    if (posLohGlob[[k]]$lo[308] < 1 & posLohGlob[[k]]$hi[308] > 1){\n",
    "        posPercGlobR[3] = posPercGlobR[3] + 1 / kolikProcesu    \n",
    "    }\n",
    "    if (posLohGlob[[k]]$lo[410] < 1 & posLohGlob[[k]]$hi[410] > 1){\n",
    "        posPercGlobR[4] = posPercGlobR[4] + 1 / kolikProcesu    \n",
    "    }\n",
    "    if (posLohLoc[[k]]$lo[103] < 1 & posLohLoc[[k]]$hi[103] > 1){\n",
    "        posPercLocR[1] = posPercLocR[1] + 1 / kolikProcesu    \n",
    "    }\n",
    "    if (posLohLoc[[k]]$lo[205] < 1 & posLohLoc[[k]]$hi[205] > 1){\n",
    "        posPercLocR[2] = posPercLocR[2] + 1 / kolikProcesu    \n",
    "    }\n",
    "    if (posLohLoc[[k]]$lo[308] < 1 & posLohLoc[[k]]$hi[308] > 1){\n",
    "        posPercLocR[3] = posPercLocR[3] + 1 / kolikProcesu    \n",
    "    }\n",
    "    if (posLohLoc[[k]]$lo[410] < 1 & posLohLoc[[k]]$hi[410] > 1){\n",
    "        posPercLocR[4] = posPercLocR[4] + 1 / kolikProcesu    \n",
    "    }\n",
    "    \n",
    "    if (thom1LohGlob[[k]]$lo[103] < thom1Erka[103] & thom1LohGlob[[k]]$hi[103] > thom1Erka[103]){\n",
    "        thom1PercGlobR[1] = thom1PercGlobR[1] + 1 / kolikProcesu    \n",
    "    }\n",
    "    if (thom1LohGlob[[k]]$lo[205] < thom1Erka[205] & thom1LohGlob[[k]]$hi[205] > thom1Erka[205]){\n",
    "        thom1PercGlobR[2] = thom1PercGlobR[2] + 1 / kolikProcesu    \n",
    "    }\n",
    "    if (thom1LohGlob[[k]]$lo[308] < thom1Erka[308] & thom1LohGlob[[k]]$hi[308] > thom1Erka[308]){\n",
    "        thom1PercGlobR[3] = thom1PercGlobR[3] + 1 / kolikProcesu    \n",
    "    }\n",
    "    if (thom1LohGlob[[k]]$lo[410] < thom1Erka[410] & thom1LohGlob[[k]]$hi[410] > thom1Erka[410]){\n",
    "        thom1PercGlobR[4] = thom1PercGlobR[4] + 1 / kolikProcesu    \n",
    "    }\n",
    "    if (thom1LohLoc[[k]]$lo[103] < thom1Erka[103] & thom1LohLoc[[k]]$hi[103] > thom1Erka[103]){\n",
    "        thom1PercLocR[1] = thom1PercLocR[1] + 1 / kolikProcesu    \n",
    "    }\n",
    "    if (thom1LohLoc[[k]]$lo[205] < thom1Erka[205] & thom1LohLoc[[k]]$hi[205] > thom1Erka[205]){\n",
    "        thom1PercLocR[2] = thom1PercLocR[2] + 1 / kolikProcesu    \n",
    "    }\n",
    "    if (thom1LohLoc[[k]]$lo[308] < thom1Erka[308] & thom1LohLoc[[k]]$hi[308] > thom1Erka[308]){\n",
    "        thom1PercLocR[3] = thom1PercLocR[3] + 1 / kolikProcesu    \n",
    "    }\n",
    "    if (thom1LohLoc[[k]]$lo[410] < thom1Erka[410] & thom1LohLoc[[k]]$hi[410] > thom1Erka[410]){\n",
    "        thom1PercLocR[4] = thom1PercLocR[4] + 1 / kolikProcesu    \n",
    "    }\n",
    "    \n",
    "    \n",
    "    if (thom2LohGlob[[k]]$lo[103] < thom2Erka[103] & thom2LohGlob[[k]]$hi[103] > thom2Erka[103]){\n",
    "        thom2PercGlobR[1] = thom2PercGlobR[1] + 1 / kolikProcesu    \n",
    "    }\n",
    "    if (thom2LohGlob[[k]]$lo[205] < thom2Erka[205] & thom2LohGlob[[k]]$hi[205] > thom2Erka[205]){\n",
    "        thom2PercGlobR[2] = thom2PercGlobR[2] + 1 / kolikProcesu    \n",
    "    }\n",
    "    if (thom2LohGlob[[k]]$lo[308] < thom2Erka[308] & thom2LohGlob[[k]]$hi[308] > thom2Erka[308]){\n",
    "        thom2PercGlobR[3] = thom2PercGlobR[3] + 1 / kolikProcesu    \n",
    "    }\n",
    "    if (thom2LohGlob[[k]]$lo[410] < thom2Erka[410] & thom2LohGlob[[k]]$hi[410] > thom2Erka[410]){\n",
    "        thom2PercGlobR[4] = thom2PercGlobR[4] + 1 / kolikProcesu    \n",
    "    }\n",
    "    if (thom2LohLoc[[k]]$lo[103] < thom2Erka[103] & thom2LohLoc[[k]]$hi[103] > thom2Erka[103]){\n",
    "        thom2PercLocR[1] = thom2PercLocR[1] + 1 / kolikProcesu    \n",
    "    }\n",
    "    if (thom2LohLoc[[k]]$lo[205] < thom2Erka[205] & thom2LohLoc[[k]]$hi[205] > thom2Erka[205]){\n",
    "        thom2PercLocR[2] = thom2PercLocR[2] + 1 / kolikProcesu    \n",
    "    }\n",
    "    if (thom2LohLoc[[k]]$lo[308] < thom2Erka[308] & thom2LohLoc[[k]]$hi[308] > thom2Erka[308]){\n",
    "        thom2PercLocR[3] = thom2PercLocR[3] + 1 / kolikProcesu    \n",
    "    }\n",
    "    if (thom2LohLoc[[k]]$lo[410] < thom2Erka[410] & thom2LohLoc[[k]]$hi[410] > thom2Erka[410]){\n",
    "        thom2PercLocR[4] = thom2PercLocR[4] + 1 / kolikProcesu    \n",
    "    }\n",
    "    \n",
    "    \n",
    "    if (thom3LohGlob[[k]]$lo[103] < thom3Erka[103] & thom3LohGlob[[k]]$hi[103] > thom3Erka[103]){\n",
    "        thom3PercGlobR[1] = thom3PercGlobR[1] + 1 / kolikProcesu    \n",
    "    }\n",
    "    if (thom3LohGlob[[k]]$lo[205] < thom3Erka[205] & thom3LohGlob[[k]]$hi[205] > thom3Erka[205]){\n",
    "        thom3PercGlobR[2] = thom3PercGlobR[2] + 1 / kolikProcesu    \n",
    "    }\n",
    "    if (thom3LohGlob[[k]]$lo[308] < thom3Erka[308] & thom3LohGlob[[k]]$hi[308] > thom3Erka[308]){\n",
    "        thom3PercGlobR[3] = thom3PercGlobR[3] + 1 / kolikProcesu    \n",
    "    }\n",
    "    if (thom3LohGlob[[k]]$lo[410] < thom3Erka[410] & thom3LohGlob[[k]]$hi[410] > thom3Erka[410]){\n",
    "        thom3PercGlobR[4] = thom3PercGlobR[4] + 1 / kolikProcesu    \n",
    "    }\n",
    "    if (thom3LohLoc[[k]]$lo[103] < thom3Erka[103] & thom3LohLoc[[k]]$hi[103] > thom3Erka[103]){\n",
    "        thom3PercLocR[1] = thom3PercLocR[1] + 1 / kolikProcesu    \n",
    "    }\n",
    "    if (thom3LohLoc[[k]]$lo[205] < thom3Erka[205] & thom3LohLoc[[k]]$hi[205] > thom3Erka[205]){\n",
    "        thom3PercLocR[2] = thom3PercLocR[2] + 1 / kolikProcesu    \n",
    "    }\n",
    "    if (thom3LohLoc[[k]]$lo[308] < thom3Erka[308] & thom3LohLoc[[k]]$hi[308] > thom3Erka[308]){\n",
    "        thom3PercLocR[3] = thom3PercLocR[3] + 1 / kolikProcesu    \n",
    "    }\n",
    "    if (thom3LohLoc[[k]]$lo[410] < thom3Erka[410] & thom3LohLoc[[k]]$hi[410] > thom3Erka[410]){\n",
    "        thom3PercLocR[4] = thom3PercLocR[4] + 1 / kolikProcesu    \n",
    "    }\n",
    "    \n",
    "    \n",
    "    if (thom4LohGlob[[k]]$lo[103] < thom4Erka[103] & thom4LohGlob[[k]]$hi[103] > thom4Erka[103]){\n",
    "        thom4PercGlobR[1] = thom4PercGlobR[1] + 1 / kolikProcesu    \n",
    "    }\n",
    "    if (thom4LohGlob[[k]]$lo[205] < thom4Erka[205] & thom4LohGlob[[k]]$hi[205] > thom4Erka[205]){\n",
    "        thom4PercGlobR[2] = thom4PercGlobR[2] + 1 / kolikProcesu    \n",
    "    }\n",
    "    if (thom4LohGlob[[k]]$lo[308] < thom4Erka[308] & thom4LohGlob[[k]]$hi[308] > thom4Erka[308]){\n",
    "        thom4PercGlobR[3] = thom4PercGlobR[3] + 1 / kolikProcesu    \n",
    "    }\n",
    "    if (thom4LohGlob[[k]]$lo[410] < thom4Erka[410] & thom4LohGlob[[k]]$hi[410] > thom4Erka[410]){\n",
    "        thom4PercGlobR[4] = thom4PercGlobR[4] + 1 / kolikProcesu    \n",
    "    }\n",
    "    if (thom4LohLoc[[k]]$lo[103] < thom4Erka[103] & thom4LohLoc[[k]]$hi[103] > thom4Erka[103]){\n",
    "        thom4PercLocR[1] = thom4PercLocR[1] + 1 / kolikProcesu    \n",
    "    }\n",
    "    if (thom4LohLoc[[k]]$lo[205] < thom4Erka[205] & thom4LohLoc[[k]]$hi[205] > thom4Erka[205]){\n",
    "        thom4PercLocR[2] = thom4PercLocR[2] + 1 / kolikProcesu    \n",
    "    }\n",
    "    if (thom4LohLoc[[k]]$lo[308] < thom4Erka[308] & thom4LohLoc[[k]]$hi[308] > thom4Erka[308]){\n",
    "        thom4PercLocR[3] = thom4PercLocR[3] + 1 / kolikProcesu    \n",
    "    }\n",
    "    if (thom4LohLoc[[k]]$lo[410] < thom4Erka[410] & thom4LohLoc[[k]]$hi[410] > thom4Erka[410]){\n",
    "        thom4PercLocR[4] = thom4PercLocR[4] + 1 / kolikProcesu    \n",
    "    }\n",
    "}\n",
    "percR = cbind(posPercGlobR,\n",
    "posPercLocR,\n",
    "thom1PercGlobR,\n",
    "thom1PercLocR,\n",
    "thom2PercGlobR,\n",
    "thom2PercLocR,\n",
    "thom3PercGlobR,\n",
    "thom3PercLocR,\n",
    "thom4PercGlobR,\n",
    "thom4PercLocR)\n",
    "\n",
    "colnames(percR) = c('PPP Global', 'PPP Pointwise', 'Thomas I Global', \n",
    "                             'Thomas I Pointwise', 'Thomas II Global', 'Thomas II Pointwise','Thomas III Global', \n",
    "                             'Thomas III Pointwise', 'Thomas IV Global', 'Thomas IV Pointwise')\n",
    "\n",
    "rownames(percR) = c('0.05', '0.1', '0.15', '0.2')"
   ]
  },
  {
   "cell_type": "markdown",
   "metadata": {},
   "source": [
    "The percentage for given $r$ is given bellow."
   ]
  },
  {
   "cell_type": "code",
   "execution_count": 137,
   "metadata": {
    "scrolled": true
   },
   "outputs": [
    {
     "data": {
      "text/html": [
       "<table>\n",
       "<thead><tr><th></th><th scope=col>PPP Global</th><th scope=col>PPP Pointwise</th><th scope=col>Thomas I Global</th><th scope=col>Thomas I Pointwise</th><th scope=col>Thomas II Global</th><th scope=col>Thomas II Pointwise</th><th scope=col>Thomas III Global</th><th scope=col>Thomas III Pointwise</th><th scope=col>Thomas IV Global</th><th scope=col>Thomas IV Pointwise</th></tr></thead>\n",
       "<tbody>\n",
       "\t<tr><th scope=row>0.05</th><td>1   </td><td>0.77</td><td>0.99</td><td>0.34</td><td>0.95</td><td>0.23</td><td>1   </td><td>0.21</td><td>1   </td><td>0.21</td></tr>\n",
       "\t<tr><th scope=row>0.1</th><td>1   </td><td>0.61</td><td>0.99</td><td>0.25</td><td>0.97</td><td>0.16</td><td>1   </td><td>0.20</td><td>1   </td><td>0.21</td></tr>\n",
       "\t<tr><th scope=row>0.15</th><td>1   </td><td>0.58</td><td>1.00</td><td>0.18</td><td>0.98</td><td>0.19</td><td>1   </td><td>0.24</td><td>1   </td><td>0.20</td></tr>\n",
       "\t<tr><th scope=row>0.2</th><td>1   </td><td>0.56</td><td>1.00</td><td>0.17</td><td>0.98</td><td>0.12</td><td>1   </td><td>0.16</td><td>1   </td><td>0.15</td></tr>\n",
       "</tbody>\n",
       "</table>\n"
      ],
      "text/latex": [
       "\\begin{tabular}{r|llllllllll}\n",
       "  & PPP Global & PPP Pointwise & Thomas I Global & Thomas I Pointwise & Thomas II Global & Thomas II Pointwise & Thomas III Global & Thomas III Pointwise & Thomas IV Global & Thomas IV Pointwise\\\\\n",
       "\\hline\n",
       "\t0.05 & 1    & 0.77 & 0.99 & 0.34 & 0.95 & 0.23 & 1    & 0.21 & 1    & 0.21\\\\\n",
       "\t0.1 & 1    & 0.61 & 0.99 & 0.25 & 0.97 & 0.16 & 1    & 0.20 & 1    & 0.21\\\\\n",
       "\t0.15 & 1    & 0.58 & 1.00 & 0.18 & 0.98 & 0.19 & 1    & 0.24 & 1    & 0.20\\\\\n",
       "\t0.2 & 1    & 0.56 & 1.00 & 0.17 & 0.98 & 0.12 & 1    & 0.16 & 1    & 0.15\\\\\n",
       "\\end{tabular}\n"
      ],
      "text/markdown": [
       "\n",
       "| <!--/--> | PPP Global | PPP Pointwise | Thomas I Global | Thomas I Pointwise | Thomas II Global | Thomas II Pointwise | Thomas III Global | Thomas III Pointwise | Thomas IV Global | Thomas IV Pointwise |\n",
       "|---|---|---|---|---|---|---|---|---|---|---|\n",
       "| 0.05 | 1    | 0.77 | 0.99 | 0.34 | 0.95 | 0.23 | 1    | 0.21 | 1    | 0.21 |\n",
       "| 0.1 | 1    | 0.61 | 0.99 | 0.25 | 0.97 | 0.16 | 1    | 0.20 | 1    | 0.21 |\n",
       "| 0.15 | 1    | 0.58 | 1.00 | 0.18 | 0.98 | 0.19 | 1    | 0.24 | 1    | 0.20 |\n",
       "| 0.2 | 1    | 0.56 | 1.00 | 0.17 | 0.98 | 0.12 | 1    | 0.16 | 1    | 0.15 |\n",
       "\n"
      ],
      "text/plain": [
       "     PPP Global PPP Pointwise Thomas I Global Thomas I Pointwise\n",
       "0.05 1          0.77          0.99            0.34              \n",
       "0.1  1          0.61          0.99            0.25              \n",
       "0.15 1          0.58          1.00            0.18              \n",
       "0.2  1          0.56          1.00            0.17              \n",
       "     Thomas II Global Thomas II Pointwise Thomas III Global\n",
       "0.05 0.95             0.23                1                \n",
       "0.1  0.97             0.16                1                \n",
       "0.15 0.98             0.19                1                \n",
       "0.2  0.98             0.12                1                \n",
       "     Thomas III Pointwise Thomas IV Global Thomas IV Pointwise\n",
       "0.05 0.21                 1                0.21               \n",
       "0.1  0.20                 1                0.21               \n",
       "0.15 0.24                 1                0.20               \n",
       "0.2  0.16                 1                0.15               "
      ]
     },
     "metadata": {},
     "output_type": "display_data"
    }
   ],
   "source": [
    "percR"
   ]
  },
  {
   "cell_type": "markdown",
   "metadata": {},
   "source": [
    "Construction of CI for one realization of each model and each type (global and pointwise) considered above can be seen in following subsections."
   ]
  },
  {
   "cell_type": "markdown",
   "metadata": {},
   "source": [
    "## 3.1 Homogeneous Poisson point process"
   ]
  },
  {
   "cell_type": "markdown",
   "metadata": {},
   "source": [
    "We firstly tested the method on homogeneous Poisson point process with intensity $\\lambda = 5000$ on a window $W = [0,1]^2$. This corresponds to (on average) 5000 points randomly and independently placed inside a unit window. One of the realization of such process can be seen bellow."
   ]
  },
  {
   "cell_type": "code",
   "execution_count": 48,
   "metadata": {
    "scrolled": false
   },
   "outputs": [
    {
     "data": {
      "image/png": "[encoded data removed]",
      "text/plain": [
       "Plot with title \"Homogeneous Poisson PP with intensity 5000\""
      ]
     },
     "metadata": {},
     "output_type": "display_data"
    }
   ],
   "source": [
    "set.seed(8128)\n",
    "pos = rpoispp(lambda = 5000)\n",
    "plot(pos, pch = 1, \"Homogeneous Poisson PP with intensity 5000\")"
   ]
  },
  {
   "cell_type": "markdown",
   "metadata": {},
   "source": [
    "We runned the function `lohboot` with both options of parameter `global`, i.e. with `global = TRUE` and `global = FALSE`. One of the constructed confidence interval for both cases can be seen bellow. The red dashed line corresponds to theoretical pair correlation function which is constant $(g(r) = 1)$."
   ]
  },
  {
   "cell_type": "code",
   "execution_count": 49,
   "metadata": {
    "scrolled": false
   },
   "outputs": [],
   "source": [
    "set.seed(8128)\n",
    "lohPoissGlob = lohboot(pos, fun = 'pcf', global = TRUE, nsim = 100)"
   ]
  },
  {
   "cell_type": "code",
   "execution_count": 50,
   "metadata": {
    "scrolled": false
   },
   "outputs": [
    {
     "data": {
      "image/png": "[encoded data removed]",
      "text/plain": [
       "Plot with title \"Global CI for Poisson PP\""
      ]
     },
     "metadata": {},
     "output_type": "display_data"
    }
   ],
   "source": [
    "plot(lohPoissGlob, main = \"Global CI for Poisson PP\")"
   ]
  },
  {
   "cell_type": "code",
   "execution_count": 53,
   "metadata": {},
   "outputs": [
    {
     "name": "stderr",
     "output_type": "stream",
     "text": [
      "Warning message in lohboot(pos, fun = \"pcf\", global = FALSE, nsim = 100):\n",
      "\"confidence level 0.95 corresponds to a non-integer rank (97.5) so quantiles will be interpolated\""
     ]
    }
   ],
   "source": [
    "set.seed(8128)\n",
    "lohPoissLoc = lohboot(pos, fun = 'pcf', global = FALSE, nsim = 100)"
   ]
  },
  {
   "cell_type": "code",
   "execution_count": 54,
   "metadata": {},
   "outputs": [
    {
     "data": {
      "image/png": "[encoded data removed]",
      "text/plain": [
       "Plot with title \"Pointwise CI for Poisson PP\""
      ]
     },
     "metadata": {},
     "output_type": "display_data"
    }
   ],
   "source": [
    "plot(lohPoissLoc, main = \"Pointwise CI for Poisson PP\")"
   ]
  },
  {
   "cell_type": "markdown",
   "metadata": {},
   "source": [
    "## 3.2 Thomas Process with parameters $(\\lambda_P, \\mu, \\sigma) = (200, 25, 0.02)$"
   ]
  },
  {
   "cell_type": "markdown",
   "metadata": {},
   "source": [
    "Second model for which we tested the mark bootstrap method was Thomas process with parameters $(\\lambda_P, \\mu, \\sigma) = (200, 25, 0.02)$ on $W = [0,1]^2$. One of the realization can be seen bellow."
   ]
  },
  {
   "cell_type": "code",
   "execution_count": 55,
   "metadata": {
    "scrolled": false
   },
   "outputs": [
    {
     "data": {
      "image/png": "[encoded data removed]",
      "text/plain": [
       "Plot with title \"Thomas PP with parameters (200,25,0.02)\""
      ]
     },
     "metadata": {},
     "output_type": "display_data"
    }
   ],
   "source": [
    "set.seed(8128)\n",
    "Thom1 = rThomas(kappa = KP2, scale = SGM2, mu = MU1)\n",
    "plot(Thom1, pch = 1, main = \"Thomas PP with parameters (200,25,0.02)\")"
   ]
  },
  {
   "cell_type": "markdown",
   "metadata": {},
   "source": [
    "Again we can see the constructed CI for one realization bellow. Again it is constructed for both global and pointwise estimations. The blue line represents the theoretical pair correlation function of Thomas PP with the parameters mentioned."
   ]
  },
  {
   "cell_type": "code",
   "execution_count": 56,
   "metadata": {},
   "outputs": [],
   "source": [
    "set.seed(8128)\n",
    "lohThom1Glob = lohboot(Thom1, fun = 'pcf', nsim = 100, global = TRUE)"
   ]
  },
  {
   "cell_type": "code",
   "execution_count": 57,
   "metadata": {
    "scrolled": false
   },
   "outputs": [
    {
     "name": "stderr",
     "output_type": "stream",
     "text": [
      "Warning message in plot.window(...):\n",
      "\"\"fun\" is not a graphical parameter\"Warning message in plot.xy(xy, type, ...):\n",
      "\"\"fun\" is not a graphical parameter\"Warning message in axis(side = side, at = at, labels = labels, ...):\n",
      "\"\"fun\" is not a graphical parameter\"Warning message in axis(side = side, at = at, labels = labels, ...):\n",
      "\"\"fun\" is not a graphical parameter\"Warning message in box(...):\n",
      "\"\"fun\" is not a graphical parameter\"Warning message in title(...):\n",
      "\"\"fun\" is not a graphical parameter\""
     ]
    },
    {
     "data": {
      "image/png": "[encoded data removed]",
      "text/plain": [
       "Plot with title \"Global CI for Thomas PP (200,25,0.02)\""
      ]
     },
     "metadata": {},
     "output_type": "display_data"
    }
   ],
   "source": [
    "plot(lohThom1Glob, main = \"Global CI for Thomas PP (200,25,0.02)\", fun = 'pcf')\n",
    "plot(thom1Pcf, col =\"blue\", add = TRUE)"
   ]
  },
  {
   "cell_type": "code",
   "execution_count": 58,
   "metadata": {},
   "outputs": [
    {
     "name": "stderr",
     "output_type": "stream",
     "text": [
      "Warning message in lohboot(Thom1, fun = \"pcf\", nsim = 100, global = FALSE):\n",
      "\"confidence level 0.95 corresponds to a non-integer rank (97.5) so quantiles will be interpolated\""
     ]
    }
   ],
   "source": [
    "set.seed(8128)\n",
    "lohThom1Loc = lohboot(Thom1, fun = 'pcf', nsim = 100, global = FALSE)"
   ]
  },
  {
   "cell_type": "code",
   "execution_count": 59,
   "metadata": {
    "scrolled": false
   },
   "outputs": [
    {
     "name": "stderr",
     "output_type": "stream",
     "text": [
      "Warning message in plot.window(...):\n",
      "\"\"fun\" is not a graphical parameter\"Warning message in plot.xy(xy, type, ...):\n",
      "\"\"fun\" is not a graphical parameter\"Warning message in axis(side = side, at = at, labels = labels, ...):\n",
      "\"\"fun\" is not a graphical parameter\"Warning message in axis(side = side, at = at, labels = labels, ...):\n",
      "\"\"fun\" is not a graphical parameter\"Warning message in box(...):\n",
      "\"\"fun\" is not a graphical parameter\"Warning message in title(...):\n",
      "\"\"fun\" is not a graphical parameter\""
     ]
    },
    {
     "data": {
      "image/png": "[encoded data removed]",
      "text/plain": [
       "Plot with title \"Pointwise CI for Thomas PP (200,25,0.02)\""
      ]
     },
     "metadata": {},
     "output_type": "display_data"
    }
   ],
   "source": [
    "plot(lohThom1Loc, main = \"Pointwise CI for Thomas PP (200,25,0.02)\", fun = 'pcf')\n",
    "plot(thom1Pcf, col =\"blue\", add = TRUE)"
   ]
  },
  {
   "cell_type": "markdown",
   "metadata": {},
   "source": [
    "## 3.3 Thomas Process with parameters $(\\lambda_P, \\mu, \\sigma) = (100,50, 0.02)$"
   ]
  },
  {
   "cell_type": "markdown",
   "metadata": {},
   "source": [
    "We now consider a model of Thomas Process where the number of parent points is lower than before $\\lambda_P = 100$, but we double the number of offsprings $\\mu = 50$. We keep the variance same as in previous example. This yields into richer clusters and higher regularity than in the previous Thomas model. Again we show one of the realizations of Thomas point process with these parameters."
   ]
  },
  {
   "cell_type": "code",
   "execution_count": 60,
   "metadata": {
    "scrolled": false
   },
   "outputs": [
    {
     "data": {
      "image/png": "[encoded data removed]",
      "text/plain": [
       "Plot with title \"Thomas PP with parameters (100,50,0.02)\""
      ]
     },
     "metadata": {},
     "output_type": "display_data"
    }
   ],
   "source": [
    "set.seed(8128)\n",
    "Thom2 = rThomas(kappa = KP1, scale = SGM2, mu = MU2)\n",
    "plot(Thom2, pch = 1, main = \"Thomas PP with parameters (100,50,0.02)\")"
   ]
  },
  {
   "cell_type": "markdown",
   "metadata": {},
   "source": [
    "Again we can see the constructed CI for one realization bellow. Again it is constructed for both global and pointwise estimations. The blue line represents the theoretical pair correlation function of Thomas PP with the parameters mentioned."
   ]
  },
  {
   "cell_type": "code",
   "execution_count": 61,
   "metadata": {},
   "outputs": [],
   "source": [
    "set.seed(8128)\n",
    "lohThom2Glob = lohboot(Thom2, fun = 'pcf', nsim = 100, global = TRUE)"
   ]
  },
  {
   "cell_type": "code",
   "execution_count": 62,
   "metadata": {},
   "outputs": [
    {
     "name": "stderr",
     "output_type": "stream",
     "text": [
      "Warning message in plot.window(...):\n",
      "\"\"fun\" is not a graphical parameter\"Warning message in plot.xy(xy, type, ...):\n",
      "\"\"fun\" is not a graphical parameter\"Warning message in axis(side = side, at = at, labels = labels, ...):\n",
      "\"\"fun\" is not a graphical parameter\"Warning message in axis(side = side, at = at, labels = labels, ...):\n",
      "\"\"fun\" is not a graphical parameter\"Warning message in box(...):\n",
      "\"\"fun\" is not a graphical parameter\"Warning message in title(...):\n",
      "\"\"fun\" is not a graphical parameter\""
     ]
    },
    {
     "data": {
      "image/png": "[encoded data removed]",
      "text/plain": [
       "Plot with title \"Global CI for Thomas PP (100,50,0.02)\""
      ]
     },
     "metadata": {},
     "output_type": "display_data"
    }
   ],
   "source": [
    "plot(lohThom2Glob, main = \"Global CI for Thomas PP (100,50,0.02)\", fun = 'pcf')\n",
    "plot(thom2Pcf, col =\"blue\", add = TRUE)"
   ]
  },
  {
   "cell_type": "code",
   "execution_count": 63,
   "metadata": {},
   "outputs": [
    {
     "name": "stderr",
     "output_type": "stream",
     "text": [
      "Warning message in lohboot(Thom2, fun = \"pcf\", nsim = 100, global = FALSE):\n",
      "\"confidence level 0.95 corresponds to a non-integer rank (97.5) so quantiles will be interpolated\""
     ]
    }
   ],
   "source": [
    "set.seed(8128)\n",
    "lohThom2Loc = lohboot(Thom2, fun = 'pcf', nsim = 100, global = FALSE)"
   ]
  },
  {
   "cell_type": "code",
   "execution_count": 64,
   "metadata": {},
   "outputs": [
    {
     "name": "stderr",
     "output_type": "stream",
     "text": [
      "Warning message in plot.window(...):\n",
      "\"\"fun\" is not a graphical parameter\"Warning message in plot.xy(xy, type, ...):\n",
      "\"\"fun\" is not a graphical parameter\"Warning message in axis(side = side, at = at, labels = labels, ...):\n",
      "\"\"fun\" is not a graphical parameter\"Warning message in axis(side = side, at = at, labels = labels, ...):\n",
      "\"\"fun\" is not a graphical parameter\"Warning message in box(...):\n",
      "\"\"fun\" is not a graphical parameter\"Warning message in title(...):\n",
      "\"\"fun\" is not a graphical parameter\""
     ]
    },
    {
     "data": {
      "image/png": "[encoded data removed]",
      "text/plain": [
       "Plot with title \"Pointwise CI for Thomas PP (100,50,0.02)\""
      ]
     },
     "metadata": {},
     "output_type": "display_data"
    }
   ],
   "source": [
    "plot(lohThom2Loc, main = \"Pointwise CI for Thomas PP (100,50,0.02)\", fun = 'pcf')\n",
    "plot(thom2Pcf, col =\"blue\", add = TRUE)"
   ]
  },
  {
   "cell_type": "markdown",
   "metadata": {},
   "source": [
    "## 3.4 Thomas Process with parameters $(\\lambda_P, \\mu, \\sigma) = (200, 25, 0.007)$"
   ]
  },
  {
   "cell_type": "markdown",
   "metadata": {},
   "source": [
    "Now consider the model with the same parents and offspring rate as in the first Thomas model, but we lower the variance. This yields into very small distances between points and high pair correlation functions for small $r$. One of realizations of Thomas process with these parameters can be again seen bellow."
   ]
  },
  {
   "cell_type": "code",
   "execution_count": 65,
   "metadata": {
    "scrolled": false
   },
   "outputs": [
    {
     "data": {
      "image/png": "[encoded data removed]",
      "text/plain": [
       "Plot with title \"Thomas PP with parameters (200,25,0.007)\""
      ]
     },
     "metadata": {},
     "output_type": "display_data"
    }
   ],
   "source": [
    "set.seed(8128)\n",
    "Thom3 = rThomas(kappa = KP2, scale = SGM1, mu = MU1)\n",
    "plot(Thom3, pch = 1, main = \"Thomas PP with parameters (200,25,0.007)\")"
   ]
  },
  {
   "cell_type": "markdown",
   "metadata": {},
   "source": [
    "Again we can see the constructed CI for one realization bellow. Again it is constructed for both global and pointwise estimations. The blue line represents the theoretical pair correlation function of Thomas PP with the parameters mentioned."
   ]
  },
  {
   "cell_type": "code",
   "execution_count": 66,
   "metadata": {},
   "outputs": [],
   "source": [
    "set.seed(8128)\n",
    "lohThom3Glob = lohboot(Thom3, fun = 'pcf', nsim = 100, global = TRUE)"
   ]
  },
  {
   "cell_type": "code",
   "execution_count": 67,
   "metadata": {
    "scrolled": false
   },
   "outputs": [
    {
     "name": "stderr",
     "output_type": "stream",
     "text": [
      "Warning message in plot.window(...):\n",
      "\"\"fun\" is not a graphical parameter\"Warning message in plot.xy(xy, type, ...):\n",
      "\"\"fun\" is not a graphical parameter\"Warning message in axis(side = side, at = at, labels = labels, ...):\n",
      "\"\"fun\" is not a graphical parameter\"Warning message in axis(side = side, at = at, labels = labels, ...):\n",
      "\"\"fun\" is not a graphical parameter\"Warning message in box(...):\n",
      "\"\"fun\" is not a graphical parameter\"Warning message in title(...):\n",
      "\"\"fun\" is not a graphical parameter\""
     ]
    },
    {
     "data": {
      "image/png": "[encoded data removed]",
      "text/plain": [
       "Plot with title \"Global CI for Thomas PP (200,25,0.007)\""
      ]
     },
     "metadata": {},
     "output_type": "display_data"
    }
   ],
   "source": [
    "plot(lohThom3Glob, main = \"Global CI for Thomas PP (200,25,0.007)\", fun = 'pcf')\n",
    "plot(thom3Pcf, col =\"blue\", add = TRUE)"
   ]
  },
  {
   "cell_type": "code",
   "execution_count": 68,
   "metadata": {},
   "outputs": [
    {
     "name": "stderr",
     "output_type": "stream",
     "text": [
      "Warning message in lohboot(Thom3, fun = \"pcf\", nsim = 100, global = FALSE):\n",
      "\"confidence level 0.95 corresponds to a non-integer rank (97.5) so quantiles will be interpolated\""
     ]
    }
   ],
   "source": [
    "set.seed(8128)\n",
    "lohThom3Loc = lohboot(Thom3, fun = 'pcf', nsim = 100, global = FALSE)"
   ]
  },
  {
   "cell_type": "code",
   "execution_count": 69,
   "metadata": {},
   "outputs": [
    {
     "name": "stderr",
     "output_type": "stream",
     "text": [
      "Warning message in plot.window(...):\n",
      "\"\"fun\" is not a graphical parameter\"Warning message in plot.xy(xy, type, ...):\n",
      "\"\"fun\" is not a graphical parameter\"Warning message in axis(side = side, at = at, labels = labels, ...):\n",
      "\"\"fun\" is not a graphical parameter\"Warning message in axis(side = side, at = at, labels = labels, ...):\n",
      "\"\"fun\" is not a graphical parameter\"Warning message in box(...):\n",
      "\"\"fun\" is not a graphical parameter\"Warning message in title(...):\n",
      "\"\"fun\" is not a graphical parameter\""
     ]
    },
    {
     "data": {
      "image/png": "[encoded data removed]",
      "text/plain": [
       "Plot with title \"Pointwise CI for Thomas PP (200,25,0.007)\""
      ]
     },
     "metadata": {},
     "output_type": "display_data"
    }
   ],
   "source": [
    "plot(lohThom3Loc, main = \"Pointwise CI for Thomas PP (200,25,0.007)\", fun = 'pcf')\n",
    "plot(thom3Pcf, col =\"blue\", add = TRUE)"
   ]
  },
  {
   "cell_type": "markdown",
   "metadata": {},
   "source": [
    "## 3.5 Thomas Process with parameters $(\\lambda_P, \\mu, \\sigma) = (100, 50, 0.007)$"
   ]
  },
  {
   "cell_type": "markdown",
   "metadata": {},
   "source": [
    "Last but not least..."
   ]
  },
  {
   "cell_type": "code",
   "execution_count": 70,
   "metadata": {},
   "outputs": [
    {
     "data": {
      "image/png": "[encoded data removed]",
      "text/plain": [
       "Plot with title \"Thomas PP with parameters (100,50,0.007)\""
      ]
     },
     "metadata": {},
     "output_type": "display_data"
    }
   ],
   "source": [
    "set.seed(8128)\n",
    "Thom4 = rThomas(kappa = KP1, scale = SGM1, mu = MU2)\n",
    "plot(Thom4, pch = 1, main = \"Thomas PP with parameters (100,50,0.007)\")"
   ]
  },
  {
   "cell_type": "markdown",
   "metadata": {},
   "source": [
    "Again we can see the constructed CI for one realization bellow. Again it is constructed for both global and pointwise estimations. The blue line represents the theoretical pair correlation function of Thomas PP with the parameters mentioned."
   ]
  },
  {
   "cell_type": "code",
   "execution_count": 71,
   "metadata": {},
   "outputs": [],
   "source": [
    "set.seed(8128)\n",
    "lohThom4Glob = lohboot(Thom4, fun = 'pcf', nsim = 100, global = TRUE)"
   ]
  },
  {
   "cell_type": "code",
   "execution_count": 72,
   "metadata": {
    "scrolled": false
   },
   "outputs": [
    {
     "name": "stderr",
     "output_type": "stream",
     "text": [
      "Warning message in plot.window(...):\n",
      "\"\"fun\" is not a graphical parameter\"Warning message in plot.xy(xy, type, ...):\n",
      "\"\"fun\" is not a graphical parameter\"Warning message in axis(side = side, at = at, labels = labels, ...):\n",
      "\"\"fun\" is not a graphical parameter\"Warning message in axis(side = side, at = at, labels = labels, ...):\n",
      "\"\"fun\" is not a graphical parameter\"Warning message in box(...):\n",
      "\"\"fun\" is not a graphical parameter\"Warning message in title(...):\n",
      "\"\"fun\" is not a graphical parameter\""
     ]
    },
    {
     "data": {
      "image/png": "[encoded data removed]",
      "text/plain": [
       "Plot with title \"Global CI for Thomas PP (100,50,0.007)\""
      ]
     },
     "metadata": {},
     "output_type": "display_data"
    }
   ],
   "source": [
    "plot(lohThom4Glob, main = \"Global CI for Thomas PP (100,50,0.007)\", fun = 'pcf')\n",
    "plot(thom4Pcf, col =\"blue\", add = TRUE)"
   ]
  },
  {
   "cell_type": "code",
   "execution_count": 73,
   "metadata": {},
   "outputs": [
    {
     "name": "stderr",
     "output_type": "stream",
     "text": [
      "Warning message in lohboot(Thom4, fun = \"pcf\", nsim = 100, global = FALSE):\n",
      "\"confidence level 0.95 corresponds to a non-integer rank (97.5) so quantiles will be interpolated\""
     ]
    }
   ],
   "source": [
    "set.seed(8128)\n",
    "lohThom4Loc = lohboot(Thom4, fun = 'pcf', nsim = 100, global = FALSE)"
   ]
  },
  {
   "cell_type": "code",
   "execution_count": 74,
   "metadata": {},
   "outputs": [
    {
     "name": "stderr",
     "output_type": "stream",
     "text": [
      "Warning message in plot.window(...):\n",
      "\"\"fun\" is not a graphical parameter\"Warning message in plot.xy(xy, type, ...):\n",
      "\"\"fun\" is not a graphical parameter\"Warning message in axis(side = side, at = at, labels = labels, ...):\n",
      "\"\"fun\" is not a graphical parameter\"Warning message in axis(side = side, at = at, labels = labels, ...):\n",
      "\"\"fun\" is not a graphical parameter\"Warning message in box(...):\n",
      "\"\"fun\" is not a graphical parameter\"Warning message in title(...):\n",
      "\"\"fun\" is not a graphical parameter\""
     ]
    },
    {
     "data": {
      "image/png": "[encoded data removed]",
      "text/plain": [
       "Plot with title \"Pointwise CI for Thomas PP (100,50,0.007)\""
      ]
     },
     "metadata": {},
     "output_type": "display_data"
    }
   ],
   "source": [
    "plot(lohThom4Loc, main = \"Pointwise CI for Thomas PP (100,50,0.007)\", fun = 'pcf')\n",
    "plot(thom4Pcf, col =\"blue\", add = TRUE)"
   ]
  },
  {
   "cell_type": "markdown",
   "metadata": {},
   "source": [
    "**References**:\n",
    "\n",
    "* Loh, J.M. (2008): A Valid and Fast Spatial Bootstrap for Correlation Functions, The Astrophysical Journal, 681, 2008, pp. 726-734\n",
    "* Hamilton, A.J.S. (1993): Toward Better Ways to Measure the Galaxy Correlation Function, The Astrophysical Journal, 417, 1993, pp. 19-35"
   ]
  }
 ],
 "metadata": {
  "kernelspec": {
   "display_name": "R",
   "language": "R",
   "name": "ir"
  },
  "language_info": {
   "codemirror_mode": "r",
   "file_extension": ".r",
   "mimetype": "text/x-r-source",
   "name": "R",
   "pygments_lexer": "r",
   "version": "3.6.1"
  }
 },
 "nbformat": 4,
 "nbformat_minor": 2
}
